{
 "cells": [
  {
   "cell_type": "code",
   "execution_count": null,
   "metadata": {
    "collapsed": true,
    "pycharm": {
     "name": "#%%\n"
    }
   },
   "outputs": [],
   "source": [
    "# 递归\n",
    "# 递归是最能表现计算思维的算法之一"
   ]
  },
  {
   "cell_type": "code",
   "execution_count": 1,
   "outputs": [],
   "source": [
    "# the nth Fibonacci number\n",
    "# Non-recursive implementation\n",
    "def fibonacci(n):\n",
    "    a, b = 0, 1\n",
    "    count = 1\n",
    "    while count < n:\n",
    "        a, b = b, a + b\n",
    "        count += 1\n",
    "    return a"
   ],
   "metadata": {
    "collapsed": false,
    "pycharm": {
     "name": "#%%\n"
    }
   }
  },
  {
   "cell_type": "code",
   "execution_count": 2,
   "outputs": [],
   "source": [
    "def Fibonacci(n):\n",
    "    if n == 0 or n == 1:\n",
    "        return n\n",
    "    return Fibonacci(n - 1) + Fibonacci(n - 2)"
   ],
   "metadata": {
    "collapsed": false,
    "pycharm": {
     "name": "#%%\n"
    }
   }
  },
  {
   "cell_type": "code",
   "execution_count": 3,
   "outputs": [
    {
     "data": {
      "text/plain": "2"
     },
     "execution_count": 3,
     "metadata": {},
     "output_type": "execute_result"
    }
   ],
   "source": [
    "Fibonacci(3)"
   ],
   "metadata": {
    "collapsed": false,
    "pycharm": {
     "name": "#%%\n"
    }
   }
  },
  {
   "cell_type": "code",
   "execution_count": 3,
   "outputs": [],
   "source": [
    "# 汉诺塔\n",
    "# 三个塔座A、B、C上各有一根针，通过B把n个盘子从A针移动到C针上\n",
    "# - 圆盘可以插在A、B或C塔座的针上\n",
    "# - 每次只能移动一个圆盘\n",
    "# - 任何时刻都不能将一个较大的圆盘压在较小的圆盘之上\n",
    "def hanoi(a, b, c, n):\n",
    "    \"\"\"\n",
    "    汉诺塔，从a移动到b\n",
    "    :param a: 源位置\n",
    "    :param b: 辅助位置\n",
    "    :param c: 目标位置\n",
    "    :param n: 盘子个数\n",
    "    \"\"\"\n",
    "    if n == 1:\n",
    "        move(a, c)\n",
    "    else:\n",
    "        hanoi(a, c, b, n - 1)\n",
    "        move(a, c)\n",
    "        hanoi(b, a, c, n - 1)\n",
    "\n",
    "\n",
    "def move(a, b):\n",
    "    print(a, \"->\", b)"
   ],
   "metadata": {
    "collapsed": false,
    "pycharm": {
     "name": "#%%\n"
    }
   }
  },
  {
   "cell_type": "code",
   "execution_count": 4,
   "outputs": [
    {
     "name": "stdout",
     "output_type": "stream",
     "text": [
      "a -> c\n",
      "a -> b\n",
      "c -> b\n",
      "a -> c\n",
      "b -> a\n",
      "b -> c\n",
      "a -> c\n"
     ]
    }
   ],
   "source": [
    "hanoi('a', 'b', 'c', 3)"
   ],
   "metadata": {
    "collapsed": false,
    "pycharm": {
     "name": "#%%\n"
    }
   }
  },
  {
   "cell_type": "code",
   "execution_count": 5,
   "outputs": [],
   "source": [
    "def printBinary(x):\n",
    "    \"\"\"\n",
    "    打印一个数的二进制形式\n",
    "    :param x: 十进制数\n",
    "    \"\"\"\n",
    "    if x >= 2:\n",
    "        printBinary(x // 2)\n",
    "    print(x % 2, end='')"
   ],
   "metadata": {
    "collapsed": false,
    "pycharm": {
     "name": "#%%\n"
    }
   }
  },
  {
   "cell_type": "code",
   "execution_count": 7,
   "outputs": [
    {
     "name": "stdout",
     "output_type": "stream",
     "text": [
      "1111"
     ]
    }
   ],
   "source": [
    "printBinary(15)"
   ],
   "metadata": {
    "collapsed": false,
    "pycharm": {
     "name": "#%%\n"
    }
   }
  },
  {
   "cell_type": "code",
   "execution_count": null,
   "outputs": [],
   "source": [],
   "metadata": {
    "collapsed": false,
    "pycharm": {
     "name": "#%%\n"
    }
   }
  }
 ],
 "metadata": {
  "kernelspec": {
   "display_name": "Python 3",
   "language": "python",
   "name": "python3"
  },
  "language_info": {
   "codemirror_mode": {
    "name": "ipython",
    "version": 2
   },
   "file_extension": ".py",
   "mimetype": "text/x-python",
   "name": "python",
   "nbconvert_exporter": "python",
   "pygments_lexer": "ipython2",
   "version": "2.7.6"
  }
 },
 "nbformat": 4,
 "nbformat_minor": 0
}