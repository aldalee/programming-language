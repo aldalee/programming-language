{
 "cells": [
  {
   "cell_type": "markdown",
   "source": [
    "# 网络数据如何获取（爬虫）\n",
    "抓取网页，解析网页内容\n",
    "## 抓取\n",
    "- urllib内建模块\n",
    "- Requests第三方库\n",
    "- Scrapy框架\n",
    "## 解析\n",
    "- BeautifulSoup库\n",
    "- re模块\n",
    "## 第三方API抓取+解析"
   ],
   "metadata": {
    "collapsed": false,
    "pycharm": {
     "name": "#%% md\n"
    }
   }
  },
  {
   "cell_type": "markdown",
   "source": [
    "## Requests库\n",
    "Requests库是更简单、方便和人性化的Python HTTP第三方库\n",
    "官网：https://cn.python-requests.org/zh_CN/latest/\n",
    "基本方法：requests.get() 请求获取指定URL位置的资源，对应HTTP协议的GET方法"
   ],
   "metadata": {
    "collapsed": false,
    "pycharm": {
     "name": "#%% md\n"
    }
   }
  },
  {
   "cell_type": "code",
   "execution_count": null,
   "outputs": [],
   "source": [
    "# 抓取的网页 https://book.douban.com/subject/1084336/comments/\n",
    "# 查看爬虫协议 https://book.douban.com/robots.txt\n",
    "# 需要注意的是，要爬取允许被爬虫的网站"
   ],
   "metadata": {
    "collapsed": false,
    "pycharm": {
     "name": "#%%\n"
    }
   }
  },
  {
   "cell_type": "code",
   "execution_count": 14,
   "outputs": [],
   "source": [
    "import requests\n",
    "from bs4 import BeautifulSoup"
   ],
   "metadata": {
    "collapsed": false,
    "pycharm": {
     "name": "#%%\n"
    }
   }
  },
  {
   "cell_type": "code",
   "execution_count": 4,
   "outputs": [],
   "source": [
    "headers = {\n",
    "    'User-Agent': 'Mozilla/5.0 (Windows NT 10.0; Win64; x64) AppleWebKit/537.36 (KHTML, like Gecko) Chrome/109.0.0.0 Safari/537.36'}\n",
    "url = 'https://book.douban.com/subject/1084336/comments/'\n",
    "r = requests.get(url, headers=headers)"
   ],
   "metadata": {
    "collapsed": false,
    "pycharm": {
     "name": "#%%\n"
    }
   }
  },
  {
   "cell_type": "code",
   "execution_count": 5,
   "outputs": [
    {
     "data": {
      "text/plain": "200"
     },
     "execution_count": 5,
     "metadata": {},
     "output_type": "execute_result"
    }
   ],
   "source": [
    "# 418就是爬取的网站有反爬取机制\n",
    "# https://blog.csdn.net/weixin_40807714/article/details/109579279\n",
    "r.status_code"
   ],
   "metadata": {
    "collapsed": false,
    "pycharm": {
     "name": "#%%\n"
    }
   }
  },
  {
   "cell_type": "code",
   "execution_count": 12,
   "outputs": [
    {
     "data": {
      "text/plain": "'text/html; charset=utf-8'"
     },
     "execution_count": 12,
     "metadata": {},
     "output_type": "execute_result"
    }
   ],
   "source": [
    "r.headers['content-type']"
   ],
   "metadata": {
    "collapsed": false,
    "pycharm": {
     "name": "#%%\n"
    }
   }
  },
  {
   "cell_type": "code",
   "execution_count": 6,
   "outputs": [
    {
     "data": {
      "text/plain": "'\\n\\n<!DOCTYPE html>\\n<html lang=\"zh-cmn-Hans\" class=\"ua-windows ua-webkit book-new-nav\">\\n<head>\\n  <meta http-equiv=\"Content-Type\" content=\"text/html; charset=utf-8\">\\n  <title>\\n    小王子 短评\\n</title>\\n  \\n<script>!function(e){var o=function(o,n,t){var c,i,r=new Date;n=n||30,t=t||\"/\",r.setTime(r.getTime()+24*n*60*60*1e3),c=\"; expires=\"+r.toGMTString();for(i in o)e.cookie=i+\"=\"+o[i]+c+\"; path=\"+t},n=function(o){var n,t,c,i=o+\"=\",r=e.cookie.split(\";\");for(t=0,c=r.length;t<c;t++)if(n=r[t].replace(/^\\\\s+|\\\\s+$/g,\"\"),0==n.indexOf(i))return n.substring(i.length,n.length).replace(/\\\\\"/g,\"\");return null},t=e.write,c={\"douban.com\":1,\"douban.fm\":1,\"google.com\":1,\"google.cn\":1,\"googleapis.com\":1,\"gmaptiles.co.kr\":1,\"gstatic.com\":1,\"gstatic.cn\":1,\"google-analytics.com\":1,\"googleadservices.com\":1},i=function(e,o){var n=new Image;n.onload=function(){},n.src=\"https://www.douban.com/j/except_report?kind=ra022&reason=\"+encodeURIComponent(e)+\"&environment=\"+encodeURIComponent(o)},r=function(o){try{t.call(e,o)}catch(e){t(o)}},a=/<script.*?src\\\\=[\"\\']?([^\"\\'\\\\s>]+)/gi,g=/http:\\\\/\\\\/(.+?)\\\\.([^\\\\/]+).+/i;e.writeln=e.write=function(e){var t,l=a.exec(e);return l&&(t=g.exec(l[1]))?c[t[2]]?void r(e):void(\"tqs\"!==n(\"hj\")&&(i(l[1],location.href),o({hj:\"tqs\"},1),setTimeout(function(){location.replace(location.href)},50))):void r(e)}}(document);</script>\\n\\n  \\n    <meta http-equiv=\"Pragma\" content=\"no-cache\">\\n    <meta http-equiv=\"Expires\" content=\"Sun, 6 Mar 2005 01:00:00 GMT\">\\n    \\n    <script >var _head_start = new Date();</script>\\n    <script src=\"https://img1.doubanio.com/f/book/0495cb173e298c28593766009c7b0a953246c5b5/js/book/lib/jquery/jquery.js\"></script>\\n    <script src=\"https://img1.doubanio.com/f/shire/4888ee2fda6812f70a064a51c93b84fde8e4a3c2/js/douban.js\"></script>\\n    <script src=\"https://img1.doubanio.com/f/book/0322e3e810e475f1c82adb7d1c6ccfa1c0fa969c/js/book/master.js\"></script>\\n    <link href=\"https://img1.doubanio.com/f/shire/204847ecc7d679de915c283531d14f16cfbee65e/css/douban.css\" rel=\"stylesheet\" type=\"text/css\">\\n    <link href=\"https://img1.doubanio.com/f/shire/8377b9498330a2e6f056d863987cc7a37eb4d486/css/ui/dialog.css\" rel=\"stylesheet\" type=\"text/css\">\\n    <link href=\"https://img1.doubanio.com/f/book/222a5c61e041638af8defc87cf97f4a863a77922/css/book/base/init.css\" rel=\"stylesheet\">\\n    <style type=\"text/css\">\\n    \\n        \\n    </style>\\n    \\n<link rel=\"stylesheet\" href=\"https://img1.doubanio.com/f/book/9aae5c6f1a6c1ef339d7c9a37d69641086bd6917/css/book/lib/subject-comments/comments.css\"/>\\n<meta name=\"mobile-agent\" content=\"format=html5; url=https://m.douban.com/book/subject/1084336/comments\"/>\\n\\n    <!-- COLLECTED CSS -->\\n    <script></script>\\n\\n  <link rel=\"shortcut icon\" href=\"https://img1.doubanio.com/favicon.ico\" type=\"image/x-icon\">\\n</head>\\n<body>\\n  \\n    <script>var _body_start = new Date();</script>\\n    \\n  \\n\\n\\n\\n    <link href=\"//img3.doubanio.com/dae/accounts/resources/20e516e/shire/bundle.css\" rel=\"stylesheet\" type=\"text/css\">\\n\\n\\n\\n<div id=\"db-global-nav\" class=\"global-nav\">\\n  <div class=\"bd\">\\n    \\n<div class=\"top-nav-info\">\\n  <a href=\"https://accounts.douban.com/passport/login?source=book\" class=\"nav-login\" rel=\"nofollow\">登录/注册</a>\\n</div>\\n\\n\\n    <div class=\"top-nav-doubanapp\">\\n  <a href=\"https://www.douban.com/doubanapp/app?channel=top-nav\" class=\"lnk-doubanapp\">下载豆瓣客户端</a>\\n  <div id=\"doubanapp-tip\">\\n    <a href=\"https://www.douban.com/doubanapp/app?channel=qipao\" class=\"tip-link\">豆瓣 <span class=\"version\">6.0</span> 全新发布</a>\\n    <a href=\"javascript: void 0;\" class=\"tip-close\">×</a>\\n  </div>\\n  <div id=\"top-nav-appintro\" class=\"more-items\">\\n    <p class=\"appintro-title\">豆瓣</p>\\n    <p class=\"qrcode\">扫码直接下载</p>\\n    <div class=\"download\">\\n      <a href=\"https://www.douban.com/doubanapp/redirect?channel=top-nav&direct_dl=1&download=iOS\">iPhone</a>\\n      <span>·</span>\\n      <a href=\"https://www.douban.com/doubanapp/redirect?channel=top-nav&direct_dl=1&download=Android\" class=\"download-android\">Android</a>\\n    </div>\\n  </div>\\n</div>\\n\\n    \\n\\n\\n<div class=\"global-nav-items\">\\n  <ul>\\n    <li class=\"\">\\n      <a href=\"https://www.douban.com\" target=\"_blank\" data-moreurl-dict=\"{&quot;from&quot;:&quot;top-nav-click-main&quot;,&quot;uid&quot;:&quot;0&quot;}\">豆瓣</a>\\n    </li>\\n    <li class=\"on\">\\n      <a href=\"https://book.douban.com\"  data-moreurl-dict=\"{&quot;from&quot;:&quot;top-nav-click-book&quot;,&quot;uid&quot;:&quot;0&quot;}\">读书</a>\\n    </li>\\n    <li class=\"\">\\n      <a href=\"https://movie.douban.com\" target=\"_blank\" data-moreurl-dict=\"{&quot;from&quot;:&quot;top-nav-click-movie&quot;,&quot;uid&quot;:&quot;0&quot;}\">电影</a>\\n    </li>\\n    <li class=\"\">\\n      <a href=\"https://music.douban.com\" target=\"_blank\" data-moreurl-dict=\"{&quot;from&quot;:&quot;top-nav-click-music&quot;,&quot;uid&quot;:&quot;0&quot;}\">音乐</a>\\n    </li>\\n    <li class=\"\">\\n      <a href=\"https://www.douban.com/location\" target=\"_blank\" data-moreurl-dict=\"{&quot;from&quot;:&quot;top-nav-click-location&quot;,&quot;uid&quot;:&quot;0&quot;}\">同城</a>\\n    </li>\\n    <li class=\"\">\\n      <a href=\"https://www.douban.com/group\" target=\"_blank\" data-moreurl-dict=\"{&quot;from&quot;:&quot;top-nav-click-group&quot;,&quot;uid&quot;:&quot;0&quot;}\">小组</a>\\n    </li>\\n    <li class=\"\">\\n      <a href=\"https://read.douban.com&#47;?dcs=top-nav&amp;dcm=douban\" target=\"_blank\" data-moreurl-dict=\"{&quot;from&quot;:&quot;top-nav-click-read&quot;,&quot;uid&quot;:&quot;0&quot;}\">阅读</a>\\n    </li>\\n    <li class=\"\">\\n      <a href=\"https://douban.fm&#47;?from_=shire_top_nav\" target=\"_blank\" data-moreurl-dict=\"{&quot;from&quot;:&quot;top-nav-click-fm&quot;,&quot;uid&quot;:&quot;0&quot;}\">FM</a>\\n    </li>\\n    <li class=\"\">\\n      <a href=\"https://time.douban.com&#47;?dt_time_source=douban-web_top_nav\" target=\"_blank\" data-moreurl-dict=\"{&quot;from&quot;:&quot;top-nav-click-time&quot;,&quot;uid&quot;:&quot;0&quot;}\">时间</a>\\n    </li>\\n    <li class=\"\">\\n      <a href=\"https://market.douban.com&#47;?utm_campaign=douban_top_nav&amp;utm_source=douban&amp;utm_medium=pc_web\" target=\"_blank\" data-moreurl-dict=\"{&quot;from&quot;:&quot;top-nav-click-market&quot;,&quot;uid&quot;:&quot;0&quot;}\">豆品</a>\\n    </li>\\n  </ul>\\n</div>\\n\\n  </div>\\n</div>\\n<script>\\n  ;window._GLOBAL_NAV = {\\n    DOUBAN_URL: \"https://www.douban.com\",\\n    N_NEW_NOTIS: 0,\\n    N_NEW_DOUMAIL: 0\\n  };\\n</script>\\n\\n\\n\\n    <script src=\"//img3.doubanio.com/dae/accounts/resources/20e516e/shire/bundle.js\" defer=\"defer\"></script>\\n\\n\\n\\n\\n  \\n\\n\\n\\n    <link href=\"//img3.doubanio.com/dae/accounts/resources/20e516e/book/bundle.css\" rel=\"stylesheet\" type=\"text/css\">\\n\\n\\n\\n\\n<div id=\"db-nav-book\" class=\"nav\">\\n  <div class=\"nav-wrap\">\\n  <div class=\"nav-primary\">\\n    <div class=\"nav-logo\">\\n      <a href=\"https:&#47;&#47;book.douban.com\">豆瓣读书</a>\\n    </div>\\n    <div class=\"nav-search\">\\n      <form action=\"https:&#47;&#47;search.douban.com&#47;book/subject_search\" method=\"get\">\\n        <fieldset>\\n          <legend>搜索：</legend>\\n          <label for=\"inp-query\">\\n          </label>\\n          <div class=\"inp\"><input id=\"inp-query\" name=\"search_text\" size=\"22\" maxlength=\"60\" placeholder=\"书名、作者、ISBN\" value=\"\"></div>\\n          <div class=\"inp-btn\"><input type=\"submit\" value=\"搜索\"></div>\\n          <input type=\"hidden\" name=\"cat\" value=\"1001\" />\\n        </fieldset>\\n      </form>\\n    </div>\\n  </div>\\n  </div>\\n  <div class=\"nav-secondary\">\\n    \\n\\n<div class=\"nav-items\">\\n  <ul>\\n    <li    ><a href=\"https://book.douban.com/cart/\"\\n     >购书单</a>\\n    </li>\\n    <li    ><a href=\"https://read.douban.com/ebooks/?dcs=book-nav&dcm=douban\"\\n            target=\"_blank\"\\n     >电子图书</a>\\n    </li>\\n    <li    ><a href=\"https://market.douban.com/book?utm_campaign=book_nav_freyr&utm_source=douban&utm_medium=pc_web\"\\n     >豆瓣书店</a>\\n    </li>\\n    <li    ><a href=\"https://book.douban.com/annual/2022?fullscreen=1&source=navigation\"\\n            target=\"_blank\"\\n     >2022年度榜单</a>\\n    </li>\\n    <li    ><a href=\"https://standbyme2022.douban.com/?autorotate=false&fullscreen=true&hidenav=true&source=web_navigation\"\\n            target=\"_blank\"\\n     >2022书影音报告</a>\\n    </li>\\n    <li          class=\" book-cart\"\\n    ><a href=\"https://market.douban.com/cart/?biz_type=book&utm_campaign=book_nav_cart&utm_source=douban&utm_medium=pc_web\"\\n            target=\"_blank\"\\n     >购物车</a>\\n    </li>\\n  </ul>\\n</div>\\n\\n    <a href=\"https://book.douban.com/annual/2022?fullscreen=1&source=book_navigation\" class=\"bookannual\"></a>\\n  </div>\\n</div>\\n\\n<script id=\"suggResult\" type=\"text/x-jquery-tmpl\">\\n  <li data-link=\"{{= url}}\">\\n            <a href=\"{{= url}}\" onclick=\"moreurl(this, {from:\\'book_search_sugg\\', query:\\'{{= keyword }}\\', subject_id:\\'{{= id}}\\', i: \\'{{= index}}\\', type: \\'{{= type}}\\'})\">\\n            <img src=\"{{= pic}}\" width=\"40\" />\\n            <div>\\n                <em>{{= title}}</em>\\n                {{if year}}\\n                    <span>{{= year}}</span>\\n                {{/if}}\\n                <p>\\n                {{if type == \"b\"}}\\n                    {{= author_name}}\\n                {{else type == \"a\" }}\\n                    {{if en_name}}\\n                        {{= en_name}}\\n                    {{/if}}\\n                {{/if}}\\n                 </p>\\n            </div>\\n        </a>\\n        </li>\\n  </script>\\n\\n\\n\\n\\n    <script src=\"//img3.doubanio.com/dae/accounts/resources/20e516e/book/bundle.js\" defer=\"defer\"></script>\\n\\n\\n\\n\\n\\n    <div id=\"wrapper\">\\n        \\n        \\n  <div id=\"content\">\\n    \\n    <h1>小王子 短评</h1>\\n\\n    <div class=\"grid-16-8 clearfix\">\\n      \\n      <div class=\"article\">\\n<div class=\"comments-wrapper\">\\n        \\n  <div class=\"clearfix Comments-hd\">\\n    <ul class=\"fleft CommentTabs\">\\n        <li class=\"is-active\">\\n          <span>读过(143676)</span>\\n        </li>\\n        <li>\\n          <a href=\"https://book.douban.com/subject/1084336/comments?status=N\">在读(2495)</a>\\n        </li>\\n        \\n        <li>\\n          <a href=\"https://book.douban.com/subject/1084336/comments?status=F\">想读(3629)</a>\\n        </li>\\n    </ul>\\n      <div class=\"fright\">\\n        \\n        <a href=\"javascript:;\" class=\"comment_btn j a_show_login\" name=\"cbtn-1084336\">我来写短评</a>\\n      </div>\\n  </div>\\n\\n        \\n    <div class=\"title_line clearfix color_gray\">\\n      <div class=\"fleft Comments-sortby\">\\n            <span>热门</span>\\n              <a href=\"?sort=time&status=P\">最新</a>\\n\\n        <!-- 登录用户可见 -->\\n\\n      </div>\\n    </div>\\n\\n    <!-- 分数分布筛选 -->\\n    <div class=\"comment-filter\">\\n        <label>\\n            <input type=\"radio\" name=\"sort\" value=\"\"  checked=\"checked\"><span class=\"filter-name\">全部</span><span class=\"comment-percent\"></span>\\n        </label>\\n        <label>\\n            <input type=\"radio\" name=\"sort\" value=\"h\" ><span class=\"filter-name\">好评</span><span class=\"comment-percent\">92%</span>\\n        </label>\\n        <label>\\n            <input type=\"radio\" name=\"sort\" value=\"m\" ><span class=\"filter-name\">一般</span><span class=\"comment-percent\">6%</span>\\n        </label>\\n        <label>\\n            <input type=\"radio\" name=\"sort\" value=\"l\" ><span class=\"filter-name\">差评</span><span class=\"comment-percent\">2%</span>\\n        </label>\\n    </div>\\n\\n    <div id=\"comments\">\\n        \\n\\n\\n\\n\\n  \\n  <div class=\"comment-list score \" id=\"\">\\n      <ul>\\n          \\n  <li class=\"comment-item\" data-cid=\"10287387\">\\n      <div class=\"avatar\">\\n        <a title=\"眠去\" href=\"https://www.douban.com/people/rebekah/\">\\n          <img src=\"https://img2.doubanio.com/icon/u1418881-51.jpg\">\\n        </a>\\n      </div>\\n    <div class=\"comment\">\\n      <h3>\\n        <span class=\"comment-vote\">\\n            <span id=\"c-10287387\" class=\"vote-count\">8024</span>\\n              <a id=\"btn-10287387\" href=\"\" class=\"j a_show_login\" data-cid=\"10287387\">有用</a>\\n\\n        </span>\\n        <span class=\"comment-info\">\\n          <a href=\"https://www.douban.com/people/rebekah/\">眠去</a>\\n            <span class=\"user-stars allstar50 rating\" title=\"力荐\"></span>\\n          <a class=\"comment-time\" href=\"/comment/10287387\">2007-02-08 11:16:40</a>\\n          <span class=\"comment-location\"></span>\\n        </span>\\n      </h3>\\n      <p class=\"comment-content\">\\n      \\n        <span class=\"short\">十几岁的时候渴慕着小王子，一天之间可以看四十四次日落。是在多久之后才明白，看四十四次日落的小王子，他有多么难过。</span>\\n      </p>\\n        <div class=\"report-comment\" data-url=\"https://book.douban.com/subject/1084336/comments/?comment_id=10287387\"></div>\\n    </div>\\n  </li>\\n\\n          \\n  <li class=\"comment-item\" data-cid=\"480104477\">\\n      <div class=\"avatar\">\\n        <a title=\"小岩井\" href=\"https://www.douban.com/people/koiwai0908/\">\\n          <img src=\"https://img9.doubanio.com/icon/u45442872-6.jpg\">\\n        </a>\\n      </div>\\n    <div class=\"comment\">\\n      <h3>\\n        <span class=\"comment-vote\">\\n            <span id=\"c-480104477\" class=\"vote-count\">5590</span>\\n              <a id=\"btn-480104477\" href=\"\" class=\"j a_show_login\" data-cid=\"480104477\">有用</a>\\n\\n        </span>\\n        <span class=\"comment-info\">\\n          <a href=\"https://www.douban.com/people/koiwai0908/\">小岩井</a>\\n          <a class=\"comment-time\" href=\"/comment/480104477\">2012-01-09 14:55:31</a>\\n          <span class=\"comment-location\"></span>\\n        </span>\\n      </h3>\\n      <p class=\"comment-content\">\\n      \\n        <span class=\"short\">读了好多年，终于读完了，但是实在共鸣不起来，虽然知道那些道理，但真的觉得没什么了不起啊，是我还太幼稚吗？</span>\\n      </p>\\n        <div class=\"report-comment\" data-url=\"https://book.douban.com/subject/1084336/comments/?comment_id=480104477\"></div>\\n    </div>\\n  </li>\\n\\n          \\n  <li class=\"comment-item\" data-cid=\"575471489\">\\n      <div class=\"avatar\">\\n        <a title=\"自在渍\" href=\"https://www.douban.com/people/phoebejk/\">\\n          <img src=\"https://img9.doubanio.com/icon/u3735640-166.jpg\">\\n        </a>\\n      </div>\\n    <div class=\"comment\">\\n      <h3>\\n        <span class=\"comment-vote\">\\n            <span id=\"c-575471489\" class=\"vote-count\">3361</span>\\n              <a id=\"btn-575471489\" href=\"\" class=\"j a_show_login\" data-cid=\"575471489\">有用</a>\\n\\n        </span>\\n        <span class=\"comment-info\">\\n          <a href=\"https://www.douban.com/people/phoebejk/\">自在渍</a>\\n            <span class=\"user-stars allstar50 rating\" title=\"力荐\"></span>\\n          <a class=\"comment-time\" href=\"/comment/575471489\">2012-09-01 20:44:35</a>\\n          <span class=\"comment-location\"></span>\\n        </span>\\n      </h3>\\n      <p class=\"comment-content\">\\n      \\n        <span class=\"short\">我的玫瑰花儿，只有四个微不足道的刺，用来抵御这个世界。</span>\\n      </p>\\n        <div class=\"report-comment\" data-url=\"https://book.douban.com/subject/1084336/comments/?comment_id=575471489\"></div>\\n    </div>\\n  </li>\\n\\n          \\n  <li class=\"comment-item\" data-cid=\"193119339\">\\n      <div class=\"avatar\">\\n        <a title=\"黛安Diane\" href=\"https://www.douban.com/people/sweetmm/\">\\n          <img src=\"https://img1.doubanio.com/icon/u3234209-57.jpg\">\\n        </a>\\n      </div>\\n    <div class=\"comment\">\\n      <h3>\\n        <span class=\"comment-vote\">\\n            <span id=\"c-193119339\" class=\"vote-count\">1841</span>\\n              <a id=\"btn-193119339\" href=\"\" class=\"j a_show_login\" data-cid=\"193119339\">有用</a>\\n\\n        </span>\\n        <span class=\"comment-info\">\\n          <a href=\"https://www.douban.com/people/sweetmm/\">黛安Diane</a>\\n            <span class=\"user-stars allstar50 rating\" title=\"力荐\"></span>\\n          <a class=\"comment-time\" href=\"/comment/193119339\">2009-12-22 11:36:19</a>\\n          <span class=\"comment-location\"></span>\\n        </span>\\n      </h3>\\n      <p class=\"comment-content\">\\n      \\n        <span class=\"short\">说实话 我看不太懂 但还是跟风给个5星吧 以显示我也是有思想有学识之人</span>\\n      </p>\\n        <div class=\"report-comment\" data-url=\"https://book.douban.com/subject/1084336/comments/?comment_id=193119339\"></div>\\n    </div>\\n  </li>\\n\\n          \\n  <li class=\"comment-item\" data-cid=\"961360514\">\\n      <div class=\"avatar\">\\n        <a title=\"菱夏\" href=\"https://www.douban.com/people/qianlishuitiany/\">\\n          <img src=\"https://img1.doubanio.com/icon/u4869978-57.jpg\">\\n        </a>\\n      </div>\\n    <div class=\"comment\">\\n      <h3>\\n        <span class=\"comment-vote\">\\n            <span id=\"c-961360514\" class=\"vote-count\">1119</span>\\n              <a id=\"btn-961360514\" href=\"\" class=\"j a_show_login\" data-cid=\"961360514\">有用</a>\\n\\n        </span>\\n        <span class=\"comment-info\">\\n          <a href=\"https://www.douban.com/people/qianlishuitiany/\">菱夏</a>\\n            <span class=\"user-stars allstar30 rating\" title=\"还行\"></span>\\n          <a class=\"comment-time\" href=\"/comment/961360514\">2015-09-23 15:01:18</a>\\n          <span class=\"comment-location\"></span>\\n        </span>\\n      </h3>\\n      <p class=\"comment-content\">\\n      \\n        <span class=\"short\">虽然我实在幼稚，但我并不怎么喜欢孩童般的纯净，我只爱风浪过后的平静，流水打磨出的清亮，大雪纷飞时的安宁，沧桑看透的纯真，我爱眼冷心热的庄子，人究竟无所逃于天地之间，各适其性，做自己认为有意义的事就好了，无论是统治宇宙还是喝酒点灯，对他们来说，都比爱一朵玫瑰重要，这不是很好的么</span>\\n      </p>\\n        <div class=\"report-comment\" data-url=\"https://book.douban.com/subject/1084336/comments/?comment_id=961360514\"></div>\\n    </div>\\n  </li>\\n\\n          \\n  <li class=\"comment-item\" data-cid=\"26285645\">\\n      <div class=\"avatar\">\\n        <a title=\"北溟鱼\" href=\"https://www.douban.com/people/julia1989/\">\\n          <img src=\"https://img2.doubanio.com/icon/u1339639-63.jpg\">\\n        </a>\\n      </div>\\n    <div class=\"comment\">\\n      <h3>\\n        <span class=\"comment-vote\">\\n            <span id=\"c-26285645\" class=\"vote-count\">783</span>\\n              <a id=\"btn-26285645\" href=\"\" class=\"j a_show_login\" data-cid=\"26285645\">有用</a>\\n\\n        </span>\\n        <span class=\"comment-info\">\\n          <a href=\"https://www.douban.com/people/julia1989/\">北溟鱼</a>\\n          <a class=\"comment-time\" href=\"/comment/26285645\">2007-12-15 20:27:27</a>\\n          <span class=\"comment-location\"></span>\\n        </span>\\n      </h3>\\n      <p class=\"comment-content\">\\n      \\n        <span class=\"short\">不能理解的是，為什么它忽然紅成這樣？</span>\\n      </p>\\n        <div class=\"report-comment\" data-url=\"https://book.douban.com/subject/1084336/comments/?comment_id=26285645\"></div>\\n    </div>\\n  </li>\\n\\n          \\n  <li class=\"comment-item\" data-cid=\"187886645\">\\n      <div class=\"avatar\">\\n        <a title=\"陳蘇蘇二逼人生\" href=\"https://www.douban.com/people/sukitian/\">\\n          <img src=\"https://img1.doubanio.com/icon/u2376302-69.jpg\">\\n        </a>\\n      </div>\\n    <div class=\"comment\">\\n      <h3>\\n        <span class=\"comment-vote\">\\n            <span id=\"c-187886645\" class=\"vote-count\">841</span>\\n              <a id=\"btn-187886645\" href=\"\" class=\"j a_show_login\" data-cid=\"187886645\">有用</a>\\n\\n        </span>\\n        <span class=\"comment-info\">\\n          <a href=\"https://www.douban.com/people/sukitian/\">陳蘇蘇二逼人生</a>\\n            <span class=\"user-stars allstar50 rating\" title=\"力荐\"></span>\\n          <a class=\"comment-time\" href=\"/comment/187886645\">2011-08-14 01:59:16</a>\\n          <span class=\"comment-location\"></span>\\n        </span>\\n      </h3>\\n      <p class=\"comment-content\">\\n      \\n        <span class=\"short\">一边读一边很想哭。太寂寞了。人类真的太寂寞了。</span>\\n      </p>\\n        <div class=\"report-comment\" data-url=\"https://book.douban.com/subject/1084336/comments/?comment_id=187886645\"></div>\\n    </div>\\n  </li>\\n\\n          \\n  <li class=\"comment-item\" data-cid=\"211779586\">\\n      <div class=\"avatar\">\\n        <a title=\"萌塔 C-137\" href=\"https://www.douban.com/people/mayday816/\">\\n          <img src=\"https://img1.doubanio.com/icon/u26829552-190.jpg\">\\n        </a>\\n      </div>\\n    <div class=\"comment\">\\n      <h3>\\n        <span class=\"comment-vote\">\\n            <span id=\"c-211779586\" class=\"vote-count\">981</span>\\n              <a id=\"btn-211779586\" href=\"\" class=\"j a_show_login\" data-cid=\"211779586\">有用</a>\\n\\n        </span>\\n        <span class=\"comment-info\">\\n          <a href=\"https://www.douban.com/people/mayday816/\">萌塔 C-137</a>\\n            <span class=\"user-stars allstar50 rating\" title=\"力荐\"></span>\\n          <a class=\"comment-time\" href=\"/comment/211779586\">2010-04-29 09:38:38</a>\\n          <span class=\"comment-location\"></span>\\n        </span>\\n      </h3>\\n      <p class=\"comment-content\">\\n      \\n        <span class=\"short\">是你浪费在我身上的时间 使我变得 如此珍贵</span>\\n      </p>\\n        <div class=\"report-comment\" data-url=\"https://book.douban.com/subject/1084336/comments/?comment_id=211779586\"></div>\\n    </div>\\n  </li>\\n\\n          \\n  <li class=\"comment-item\" data-cid=\"603728707\">\\n      <div class=\"avatar\">\\n        <a title=\"電気白蘭\" href=\"https://www.douban.com/people/Uranus_Qiang/\">\\n          <img src=\"https://img2.doubanio.com/icon/u3236706-91.jpg\">\\n        </a>\\n      </div>\\n    <div class=\"comment\">\\n      <h3>\\n        <span class=\"comment-vote\">\\n            <span id=\"c-603728707\" class=\"vote-count\">793</span>\\n              <a id=\"btn-603728707\" href=\"\" class=\"j a_show_login\" data-cid=\"603728707\">有用</a>\\n\\n        </span>\\n        <span class=\"comment-info\">\\n          <a href=\"https://www.douban.com/people/Uranus_Qiang/\">電気白蘭</a>\\n            <span class=\"user-stars allstar50 rating\" title=\"力荐\"></span>\\n          <a class=\"comment-time\" href=\"/comment/603728707\">2012-11-15 23:45:25</a>\\n          <span class=\"comment-location\"></span>\\n        </span>\\n      </h3>\\n      <p class=\"comment-content\">\\n      \\n        <span class=\"short\">如果你是小王子，我就是那捉鸡的狐狸，求你驯养了我，却又对你说要你回去对你的玫瑰花负责。还大方地以为只要看见了麦田就会想起你头发的颜色。我却永远无法随你回到B-612星球。现在觉得，我可能只是猴面包树而已。</span>\\n      </p>\\n        <div class=\"report-comment\" data-url=\"https://book.douban.com/subject/1084336/comments/?comment_id=603728707\"></div>\\n    </div>\\n  </li>\\n\\n          \\n  <li class=\"comment-item\" data-cid=\"182423079\">\\n      <div class=\"avatar\">\\n        <a title=\"蛇\" href=\"https://www.douban.com/people/tomienn_9crimes/\">\\n          <img src=\"https://img1.doubanio.com/icon/u4599201-790.jpg\">\\n        </a>\\n      </div>\\n    <div class=\"comment\">\\n      <h3>\\n        <span class=\"comment-vote\">\\n            <span id=\"c-182423079\" class=\"vote-count\">742</span>\\n              <a id=\"btn-182423079\" href=\"\" class=\"j a_show_login\" data-cid=\"182423079\">有用</a>\\n\\n        </span>\\n        <span class=\"comment-info\">\\n          <a href=\"https://www.douban.com/people/tomienn_9crimes/\">蛇</a>\\n            <span class=\"user-stars allstar40 rating\" title=\"推荐\"></span>\\n          <a class=\"comment-time\" href=\"/comment/182423079\">2009-11-25 03:40:45</a>\\n          <span class=\"comment-location\"></span>\\n        </span>\\n      </h3>\\n      <p class=\"comment-content\">\\n      \\n        <span class=\"short\">狐狸告诉小王子的秘密是：用心去看才看得清楚；是分离让小王子更思念他的玫瑰；爱就是责任。 \\r\\n</span>\\n      </p>\\n        <div class=\"report-comment\" data-url=\"https://book.douban.com/subject/1084336/comments/?comment_id=182423079\"></div>\\n    </div>\\n  </li>\\n\\n          \\n  <li class=\"comment-item\" data-cid=\"25726069\">\\n      <div class=\"avatar\">\\n        <a title=\"杜边生\" href=\"https://www.douban.com/people/darkiddy/\">\\n          <img src=\"https://img2.doubanio.com/icon/u1105086-2.jpg\">\\n        </a>\\n      </div>\\n    <div class=\"comment\">\\n      <h3>\\n        <span class=\"comment-vote\">\\n            <span id=\"c-25726069\" class=\"vote-count\">618</span>\\n              <a id=\"btn-25726069\" href=\"\" class=\"j a_show_login\" data-cid=\"25726069\">有用</a>\\n\\n        </span>\\n        <span class=\"comment-info\">\\n          <a href=\"https://www.douban.com/people/darkiddy/\">杜边生</a>\\n          <a class=\"comment-time\" href=\"/comment/25726069\">2007-12-09 03:10:28</a>\\n          <span class=\"comment-location\"></span>\\n        </span>\\n      </h3>\\n      <p class=\"comment-content\">\\n      \\n        <span class=\"short\">我老觉得小狐狸跟小王子是在搞GAY</span>\\n      </p>\\n        <div class=\"report-comment\" data-url=\"https://book.douban.com/subject/1084336/comments/?comment_id=25726069\"></div>\\n    </div>\\n  </li>\\n\\n          \\n  <li class=\"comment-item\" data-cid=\"489033929\">\\n      <div class=\"avatar\">\\n        <a title=\"暴走系乙女药\" href=\"https://www.douban.com/people/woosaya/\">\\n          <img src=\"https://img9.doubanio.com/icon/u2017192-174.jpg\">\\n        </a>\\n      </div>\\n    <div class=\"comment\">\\n      <h3>\\n        <span class=\"comment-vote\">\\n            <span id=\"c-489033929\" class=\"vote-count\">641</span>\\n              <a id=\"btn-489033929\" href=\"\" class=\"j a_show_login\" data-cid=\"489033929\">有用</a>\\n\\n        </span>\\n        <span class=\"comment-info\">\\n          <a href=\"https://www.douban.com/people/woosaya/\">暴走系乙女药</a>\\n            <span class=\"user-stars allstar40 rating\" title=\"推荐\"></span>\\n          <a class=\"comment-time\" href=\"/comment/489033929\">2012-01-30 14:42:06</a>\\n          <span class=\"comment-location\"></span>\\n        </span>\\n      </h3>\\n      <p class=\"comment-content\">\\n      \\n        <span class=\"short\">原来在我还不懂爱情的时候就爱上了你</span>\\n      </p>\\n        <div class=\"report-comment\" data-url=\"https://book.douban.com/subject/1084336/comments/?comment_id=489033929\"></div>\\n    </div>\\n  </li>\\n\\n          \\n  <li class=\"comment-item\" data-cid=\"965894472\">\\n      <div class=\"avatar\">\\n        <a title=\"Cassie\" href=\"https://www.douban.com/people/2866241/\">\\n          <img src=\"https://img1.doubanio.com/icon/u2866241-30.jpg\">\\n        </a>\\n      </div>\\n    <div class=\"comment\">\\n      <h3>\\n        <span class=\"comment-vote\">\\n            <span id=\"c-965894472\" class=\"vote-count\">524</span>\\n              <a id=\"btn-965894472\" href=\"\" class=\"j a_show_login\" data-cid=\"965894472\">有用</a>\\n\\n        </span>\\n        <span class=\"comment-info\">\\n          <a href=\"https://www.douban.com/people/2866241/\">Cassie</a>\\n            <span class=\"user-stars allstar20 rating\" title=\"较差\"></span>\\n          <a class=\"comment-time\" href=\"/comment/965894472\">2015-10-07 23:59:34</a>\\n          <span class=\"comment-location\"></span>\\n        </span>\\n      </h3>\\n      <p class=\"comment-content\">\\n      \\n        <span class=\"short\">痛苦迷茫不是因为成为了“可笑”的大人，而是成为大人却没有真正长大。所以回过头来想要从怀念童年中解脱缓解痛苦那是本末倒置的做法。如果你作为一个成年人觉得痛苦，原因不是因为你“成年”了，也不是因为是生而为“人”，而是“你”停止了思考停止了学习。</span>\\n      </p>\\n        <div class=\"report-comment\" data-url=\"https://book.douban.com/subject/1084336/comments/?comment_id=965894472\"></div>\\n    </div>\\n  </li>\\n\\n          \\n  <li class=\"comment-item\" data-cid=\"349150347\">\\n      <div class=\"avatar\">\\n        <a title=\"猫伯爵\" href=\"https://www.douban.com/people/guo_betty/\">\\n          <img src=\"https://img1.doubanio.com/icon/u1126291-7.jpg\">\\n        </a>\\n      </div>\\n    <div class=\"comment\">\\n      <h3>\\n        <span class=\"comment-vote\">\\n            <span id=\"c-349150347\" class=\"vote-count\">538</span>\\n              <a id=\"btn-349150347\" href=\"\" class=\"j a_show_login\" data-cid=\"349150347\">有用</a>\\n\\n        </span>\\n        <span class=\"comment-info\">\\n          <a href=\"https://www.douban.com/people/guo_betty/\">猫伯爵</a>\\n            <span class=\"user-stars allstar50 rating\" title=\"力荐\"></span>\\n          <a class=\"comment-time\" href=\"/comment/349150347\">2011-02-04 06:43:28</a>\\n          <span class=\"comment-location\"></span>\\n        </span>\\n      </h3>\\n      <p class=\"comment-content\">\\n      \\n        <span class=\"short\">他像一颗树那样倒了下去</span>\\n      </p>\\n        <div class=\"report-comment\" data-url=\"https://book.douban.com/subject/1084336/comments/?comment_id=349150347\"></div>\\n    </div>\\n  </li>\\n\\n          \\n  <li class=\"comment-item\" data-cid=\"456621403\">\\n      <div class=\"avatar\">\\n        <a title=\"7酱™\" href=\"https://www.douban.com/people/maxineY/\">\\n          <img src=\"https://img9.doubanio.com/icon/u41406642-885.jpg\">\\n        </a>\\n      </div>\\n    <div class=\"comment\">\\n      <h3>\\n        <span class=\"comment-vote\">\\n            <span id=\"c-456621403\" class=\"vote-count\">449</span>\\n              <a id=\"btn-456621403\" href=\"\" class=\"j a_show_login\" data-cid=\"456621403\">有用</a>\\n\\n        </span>\\n        <span class=\"comment-info\">\\n          <a href=\"https://www.douban.com/people/maxineY/\">7酱™</a>\\n            <span class=\"user-stars allstar50 rating\" title=\"力荐\"></span>\\n          <a class=\"comment-time\" href=\"/comment/456621403\">2011-11-12 13:10:01</a>\\n          <span class=\"comment-location\"></span>\\n        </span>\\n      </h3>\\n      <p class=\"comment-content\">\\n      \\n        <span class=\"short\">第一遍读时，我才4岁。等到真的读懂，才明白为什么这是一部“童话”。</span>\\n      </p>\\n        <div class=\"report-comment\" data-url=\"https://book.douban.com/subject/1084336/comments/?comment_id=456621403\"></div>\\n    </div>\\n  </li>\\n\\n          \\n  <li class=\"comment-item\" data-cid=\"453513383\">\\n      <div class=\"avatar\">\\n        <a title=\"谋杀游戏机\" href=\"https://www.douban.com/people/hexiaoqin/\">\\n          <img src=\"https://img1.doubanio.com/icon/u10969301-317.jpg\">\\n        </a>\\n      </div>\\n    <div class=\"comment\">\\n      <h3>\\n        <span class=\"comment-vote\">\\n            <span id=\"c-453513383\" class=\"vote-count\">462</span>\\n              <a id=\"btn-453513383\" href=\"\" class=\"j a_show_login\" data-cid=\"453513383\">有用</a>\\n\\n        </span>\\n        <span class=\"comment-info\">\\n          <a href=\"https://www.douban.com/people/hexiaoqin/\">谋杀游戏机</a>\\n            <span class=\"user-stars allstar40 rating\" title=\"推荐\"></span>\\n          <a class=\"comment-time\" href=\"/comment/453513383\">2011-11-04 09:19:34</a>\\n          <span class=\"comment-location\"></span>\\n        </span>\\n      </h3>\\n      <p class=\"comment-content\">\\n      \\n        <span class=\"short\">It is the time you have wasted for your rose that makes your rose so important.</span>\\n      </p>\\n        <div class=\"report-comment\" data-url=\"https://book.douban.com/subject/1084336/comments/?comment_id=453513383\"></div>\\n    </div>\\n  </li>\\n\\n          \\n  <li class=\"comment-item\" data-cid=\"525136708\">\\n      <div class=\"avatar\">\\n        <a title=\"[已注销]\" href=\"https://www.douban.com/people/sabrina89/\">\\n          <img src=\"https://img1.doubanio.com/icon/user_normal.jpg\">\\n        </a>\\n      </div>\\n    <div class=\"comment\">\\n      <h3>\\n        <span class=\"comment-vote\">\\n            <span id=\"c-525136708\" class=\"vote-count\">452</span>\\n              <a id=\"btn-525136708\" href=\"\" class=\"j a_show_login\" data-cid=\"525136708\">有用</a>\\n\\n        </span>\\n        <span class=\"comment-info\">\\n          <a href=\"https://www.douban.com/people/sabrina89/\">[已注销]</a>\\n            <span class=\"user-stars allstar50 rating\" title=\"力荐\"></span>\\n          <a class=\"comment-time\" href=\"/comment/525136708\">2012-04-27 15:36:14</a>\\n          <span class=\"comment-location\"></span>\\n        </span>\\n      </h3>\\n      <p class=\"comment-content\">\\n      \\n        <span class=\"short\">爱屋及乌，爱一个人会让周围的一切变得美好，连麦浪的金黄都会让人心醉。 \\n\\u3000\\u3000\\u3000\\u3000 \\n\\u3000\\u3000\\u3000\\u3000爱同样意味着责任。因为“你现在要对你驯服过的一切负责到底”。爱与被爱都有责任，每一段我们曾经付出过的感情，都必须为对方，为爱情负责，不是吗？ \\n\\u3000\\u3000\\u3000\\u3000 \\n\\u3000\\u3000\\u3000\\u3000爱很多时候又会面临失去。小王子离开的时候，对狐狸说“那么你什么好处也没得到”。狐狸回答：“由于麦子颜色的缘故，我还是得到了好处”。爱同样意味着宽容，意味着放弃，也许我们在面对渐行渐远的爱情，该抱着平和感激的心态，因为我们起码收获了麦浪的金黄！ \\n\\u3000\\u3000\\u3000\\u3000 \\n\\u3000\\u3000\\u3000\\u3000狐狸同样告诉小王子，“只有用心才能看得清。实质性的东西，用眼睛是看不见的”。只有这样，才能让我看清爱的本质。 \\n\\u3000\\u3000\\u3000\\u3000 \\n\\u3000\\u3000\\u3000\\u3000爱是什么？ \\n\\u3000\\u3000\\u3000\\u3000 \\n\\u3000\\u3000</span>\\n      </p>\\n        <div class=\"report-comment\" data-url=\"https://book.douban.com/subject/1084336/comments/?comment_id=525136708\"></div>\\n    </div>\\n  </li>\\n\\n          \\n  <li class=\"comment-item\" data-cid=\"392769823\">\\n      <div class=\"avatar\">\\n        <a title=\"晚回舟\" href=\"https://www.douban.com/people/missleftonly/\">\\n          <img src=\"https://img2.doubanio.com/icon/u41467174-3.jpg\">\\n        </a>\\n      </div>\\n    <div class=\"comment\">\\n      <h3>\\n        <span class=\"comment-vote\">\\n            <span id=\"c-392769823\" class=\"vote-count\">396</span>\\n              <a id=\"btn-392769823\" href=\"\" class=\"j a_show_login\" data-cid=\"392769823\">有用</a>\\n\\n        </span>\\n        <span class=\"comment-info\">\\n          <a href=\"https://www.douban.com/people/missleftonly/\">晚回舟</a>\\n            <span class=\"user-stars allstar50 rating\" title=\"力荐\"></span>\\n          <a class=\"comment-time\" href=\"/comment/392769823\">2011-10-06 20:15:06</a>\\n          <span class=\"comment-location\"></span>\\n        </span>\\n      </h3>\\n      <p class=\"comment-content\">\\n      \\n        <span class=\"short\">狐狸再好又有什么用，他还是爱玫瑰花</span>\\n      </p>\\n        <div class=\"report-comment\" data-url=\"https://book.douban.com/subject/1084336/comments/?comment_id=392769823\"></div>\\n    </div>\\n  </li>\\n\\n          \\n  <li class=\"comment-item\" data-cid=\"905300801\">\\n      <div class=\"avatar\">\\n        <a title=\"jiyun\" href=\"https://www.douban.com/people/post-rocker/\">\\n          <img src=\"https://img1.doubanio.com/icon/u1203352-527.jpg\">\\n        </a>\\n      </div>\\n    <div class=\"comment\">\\n      <h3>\\n        <span class=\"comment-vote\">\\n            <span id=\"c-905300801\" class=\"vote-count\">323</span>\\n              <a id=\"btn-905300801\" href=\"\" class=\"j a_show_login\" data-cid=\"905300801\">有用</a>\\n\\n        </span>\\n        <span class=\"comment-info\">\\n          <a href=\"https://www.douban.com/people/post-rocker/\">jiyun</a>\\n            <span class=\"user-stars allstar40 rating\" title=\"推荐\"></span>\\n          <a class=\"comment-time\" href=\"/comment/905300801\">2015-10-16 22:24:58</a>\\n          <span class=\"comment-location\"></span>\\n        </span>\\n      </h3>\\n      <p class=\"comment-content\">\\n      \\n        <span class=\"short\">你要非常有耐心，”狐狸说，“首先，你要在离我有点远的地方坐下，就像这样，坐在草地上。我会偷偷地看你，你不要说话。语言是误解的根源。但你每天都要坐得离我更近一点</span>\\n      </p>\\n        <div class=\"report-comment\" data-url=\"https://book.douban.com/subject/1084336/comments/?comment_id=905300801\"></div>\\n    </div>\\n  </li>\\n\\n          \\n  <li class=\"comment-item\" data-cid=\"252280247\">\\n      <div class=\"avatar\">\\n        <a title=\"E\" href=\"https://www.douban.com/people/Equator/\">\\n          <img src=\"https://img9.doubanio.com/icon/u1106753-14.jpg\">\\n        </a>\\n      </div>\\n    <div class=\"comment\">\\n      <h3>\\n        <span class=\"comment-vote\">\\n            <span id=\"c-252280247\" class=\"vote-count\">362</span>\\n              <a id=\"btn-252280247\" href=\"\" class=\"j a_show_login\" data-cid=\"252280247\">有用</a>\\n\\n        </span>\\n        <span class=\"comment-info\">\\n          <a href=\"https://www.douban.com/people/Equator/\">E</a>\\n            <span class=\"user-stars allstar50 rating\" title=\"力荐\"></span>\\n          <a class=\"comment-time\" href=\"/comment/252280247\">2010-06-06 11:25:19</a>\\n          <span class=\"comment-location\"></span>\\n        </span>\\n      </h3>\\n      <p class=\"comment-content\">\\n      \\n        <span class=\"short\">漫山遍野的玫瑰，但真的，我最喜欢最初的那一朵，带刺儿的那一朵。我能不能回去继续浇灌那朵玫瑰⋯⋯</span>\\n      </p>\\n        <div class=\"report-comment\" data-url=\"https://book.douban.com/subject/1084336/comments/?comment_id=252280247\"></div>\\n    </div>\\n  </li>\\n\\n      </ul>\\n  </div>\\n\\n<div class=\"paginator-wrapper\">\\n  \\n<div id=\"paginator\" class=\"center\" data-total=\"143676\">\\n    <span class=\"first\" data-page=\\'first\\'><< 首页</span>\\n    <span class=\"prev\" data-page=\\'prev\\'>< 前页</span>\\n    <a href=\"?status=P&sort=score&percent_type=&start=20&limit=20\"\\n      data-page=\\'next\\'>后页 ></a>\\n</div>\\n\\n</div>\\n\\n    </div>\\n    \\n</div>\\n\\n\\n</div>\\n      <div class=\"aside\">\\n        \\n<div class=\"sidebar-wrapper\">\\n    \\n\\n    <p class=\"pl2 side-bar-link\">\\n        &gt; <a href=\"https://book.douban.com/subject/1084336/\">小王子</a>\\n    </p>\\n    <div class=\"indent subject-info\">\\n        \\n\\n\\n\\n\\n\\n\\n\\n\\n\\n\\n\\n<div>\\n    <a href=\"https://book.douban.com/subject/1084336/\">\\n        <img width=\"100px\" class=\"fil\" alt=\"小王子\" title=\"小王子\" src=\"https://img2.doubanio.com/view/subject/s/public/s1103152.jpg\" rel=\"v:image\">\\n    </a>\\n<br clear=\"all\"/>\\n\\n    <span class=\"pl\">作者:</span> [法] 圣埃克苏佩里<br/>\\n\\n    \\n            \\n    <span class=\"pl\">原作名:</span> Le Petit Prince<br/>\\n\\n    \\n            \\n    \\n            \\n    <span class=\"pl\">isbn:</span> 702004249X<br/>\\n\\n    \\n            \\n    <span class=\"pl\">书名:</span> 小王子<br/>\\n\\n    \\n            \\n    <span class=\"pl\">页数:</span> 97<br/>\\n\\n    \\n    \\n    \\n            \\n    \\n    <span class=\"pl\">译者:</span> <a href=\"https://book.douban.com/search/%E9%A9%AC%E6%8C%AF%E8%81%98\">马振聘</a><br/>\\n\\n    \\n            \\n    \\n    \\n            \\n    <span class=\"pl\">定价:</span> 22.00元<br/>\\n\\n    \\n    \\n            \\n    <span class=\"pl\">出版社:</span> 人民文学出版社<br/>\\n\\n    \\n            \\n    \\n            \\n    <span class=\"pl\">装帧:</span> 平装<br/>\\n\\n    \\n            \\n    <span class=\"pl\">出版年:</span> 2003-8<br/>\\n\\n    \\n    \\n            \\n</div>\\n\\n    </div>\\n\\n</div>\\n\\n      </div>\\n      <div class=\"extra\">\\n        \\n      </div>\\n    </div>\\n  </div>\\n\\n        \\n  <div id=\"footer\">\\n    \\n<span id=\"icp\" class=\"fleft gray-link\">\\n    &copy; 2005－2023 douban.com, all rights reserved 北京豆网科技有限公司\\n</span>\\n\\n<a href=\"https://www.douban.com/hnypt/variformcyst.py\" style=\"display: none;\"></a>\\n\\n<span class=\"fright\">\\n    <a href=\"https://www.douban.com/about\">关于豆瓣</a>\\n    · <a href=\"https://www.douban.com/jobs\">在豆瓣工作</a>\\n    · <a href=\"https://www.douban.com/about?topic=contactus\">联系我们</a>\\n    · <a href=\"https://www.douban.com/about/legal\">法律声明</a>\\n    \\n    · <a href=\"https://help.douban.com/?app=book\" target=\"_blank\">帮助中心</a>\\n    · <a href=\"https://book.douban.com/library_invitation\">图书馆合作</a>\\n    · <a href=\"https://www.douban.com/doubanapp/\">移动应用</a>\\n    · <a href=\"https://www.douban.com/partner/\">豆瓣广告</a>\\n</span>\\n\\n  </div>\\n\\n    </div>\\n      \\n\\n    <!-- COLLECTED JS -->\\n    <!-- mako -->\\n    \\n    <script src=\"https://img1.doubanio.com/f/shire/bc881a837a728ab82aa01d653b1c180190bb5a5d/js/ui/dialog.js\"></script>\\n    <script src=\"https://img1.doubanio.com/f/book/cc6b1a77c3812c7dd20b0374332fade081e1c0b0/js/book/subject/unfold.js\"></script>\\n    <script src=\"https://img1.doubanio.com/f/book/33bb917eefbefa3c41973b87efd26faa433e980e/js/book/lib/subject-comments/comments.js\"></script>\\n    <script>\\n        (function () {\\n            if (window.SUBJECT_COMMENTS) {\\n                // expand handler\\n                SUBJECT_COMMENTS.createExpandHandler();\\n                // comments\\n                SUBJECT_COMMENTS.createComments({\\n                    subject_id: \"1084336\",\\n                    state: {\\n                        percent_type: \"\",\\n                        start: 0,\\n                        limit: 20,\\n                        status: \"P\",\\n                        sort: \"score\"\\n                    },\\n                    afterFetch: () => {\\n                        if (window.ADD_REPORT) {\\n                            window.ADD_REPORT()\\n                        }\\n                    }\\n                });\\n                SUBJECT_COMMENTS.createVoteHandler({\\n                    api: \\'/j/comment/:id/vote\\',\\n                    voteSelector: \\'.vote-comment\\',\\n                    textSelector: \\'.vote-count\\',\\n                    afterVote: function (elem) {\\n                        var parentNode = elem.parentNode;\\n                        var successElem = document.createElement(\\'span\\');\\n                        successElem.innerHTML = \\'已投票\\';\\n                        parentNode.removeChild(elem);\\n                        parentNode.appendChild(successElem);\\n                    }\\n                })\\n            }\\n        })();\\n    </script>\\n\\n    <script>\\n        $(\\'.collect_btn\\').each(function(){\\n            Douban.init_collect_btn(this);\\n        });\\n    </script>\\n\\n    \\n  \\n\\n<script type=\"text/javascript\">\\n  var _paq = _paq || [];\\n  _paq.push([\\'trackPageView\\']);\\n  _paq.push([\\'enableLinkTracking\\']);\\n  (function() {\\n    var p=((\\'https:\\' == document.location.protocol) ? \\'https\\' : \\'http\\'), u=p+\\'://fundin.douban.com/\\';\\n    _paq.push([\\'setTrackerUrl\\', u+\\'piwik\\']);\\n    _paq.push([\\'setSiteId\\', \\'100001\\']);\\n    var d=document, g=d.createElement(\\'script\\'), s=d.getElementsByTagName(\\'script\\')[0]; \\n    g.type=\\'text/javascript\\';\\n    g.defer=true; \\n    g.async=true; \\n    g.src=p+\\'://s.doubanio.com/dae/fundin/piwik.js\\';\\n    s.parentNode.insertBefore(g,s);\\n  })();\\n</script>\\n\\n<script type=\"text/javascript\">\\nvar setMethodWithNs = function(namespace) {\\n  var ns = namespace ? namespace + \\'.\\' : \\'\\'\\n    , fn = function(string) {\\n        if(!ns) {return string}\\n        return ns + string\\n      }\\n  return fn\\n}\\n\\nvar gaWithNamespace = function(fn, namespace) {\\n  var method = setMethodWithNs(namespace)\\n  fn.call(this, method)\\n}\\n\\nvar _gaq = _gaq || []\\n  , accounts = [\\n      { id: \\'UA-7019765-1\\', namespace: \\'douban\\' }\\n    , { id: \\'UA-7019765-16\\', namespace: \\'\\' }\\n    ]\\n  , gaInit = function(account) {\\n      gaWithNamespace(function(method) {\\n        gaInitFn.call(this, method, account)\\n      }, account.namespace)\\n    }\\n  , gaInitFn = function(method, account) {\\n      _gaq.push([method(\\'_setAccount\\'), account.id])\\n\\n      \\n  _gaq.push([method(\\'_addOrganic\\'), \\'google\\', \\'q\\'])\\n  _gaq.push([method(\\'_addOrganic\\'), \\'baidu\\', \\'wd\\'])\\n  _gaq.push([method(\\'_addOrganic\\'), \\'soso\\', \\'w\\'])\\n  _gaq.push([method(\\'_addOrganic\\'), \\'youdao\\', \\'q\\'])\\n  _gaq.push([method(\\'_addOrganic\\'), \\'so.360.cn\\', \\'q\\'])\\n  _gaq.push([method(\\'_addOrganic\\'), \\'sogou\\', \\'query\\'])\\n  if (account.namespace) {\\n    _gaq.push([method(\\'_addIgnoredOrganic\\'), \\'豆瓣\\'])\\n    _gaq.push([method(\\'_addIgnoredOrganic\\'), \\'douban\\'])\\n    _gaq.push([method(\\'_addIgnoredOrganic\\'), \\'豆瓣网\\'])\\n    _gaq.push([method(\\'_addIgnoredOrganic\\'), \\'www.douban.com\\'])\\n  }\\n\\n      if (account.namespace === \\'douban\\') {\\n        _gaq.push([method(\\'_setDomainName\\'), \\'.douban.com\\'])\\n      }\\n\\n        _gaq.push([method(\\'_setCustomVar\\'), 1, \\'responsive_view_mode\\', \\'desktop\\', 3])\\n\\n        _gaq.push([method(\\'_setCustomVar\\'), 2, \\'login_status\\', \\'0\\', 2]);\\n\\n      _gaq.push([method(\\'_trackPageview\\')])\\n    }\\n\\nfor(var i = 0, l = accounts.length; i < l; i++) {\\n  var account = accounts[i]\\n  gaInit(account)\\n}\\n\\n\\n;(function() {\\n    var ga = document.createElement(\\'script\\');\\n    ga.src = (\\'https:\\' == document.location.protocol ? \\'https://ssl\\' : \\'http://www\\') + \\'.google-analytics.com/ga.js\\';\\n    ga.setAttribute(\\'async\\', \\'true\\');\\n    document.documentElement.firstChild.appendChild(ga);\\n})()\\n</script>\\n\\n\\n\\n\\n\\n\\n\\n\\n    <!-- dae-web-book--default-7b9bdbd77d-6wfpj-->\\n\\n</body>\\n</html>\\n\\n\\n\\n\\n\\n\\n\\n\\n\\n\\n\\n\\n\\n\\n\\n\\n\\n\\n\\n\\n\\n\\n\\n\\n\\n\\n\\n\\n\\n\\n\\n\\n\\n\\n\\n\\n'"
     },
     "execution_count": 6,
     "metadata": {},
     "output_type": "execute_result"
    }
   ],
   "source": [
    "r.text"
   ],
   "metadata": {
    "collapsed": false,
    "pycharm": {
     "name": "#%%\n"
    }
   }
  },
  {
   "cell_type": "code",
   "execution_count": null,
   "outputs": [],
   "source": [
    "# 用BeautifulSoup进行数据解析\n",
    "# BeautifulSoup是一个可以从HTML或XML文件中提取数据的python库\n",
    "# 官网：https://beautifulsoup.cn/\n",
    "# <span class=\"short\">十几岁的时候渴慕着小王子，一天之间可以看四十四次日落。是在多久之后才明白，看四十四次日落的小王子，他有多么难过。</span>"
   ],
   "metadata": {
    "collapsed": false,
    "pycharm": {
     "name": "#%%\n"
    }
   }
  },
  {
   "cell_type": "code",
   "execution_count": null,
   "outputs": [],
   "source": [
    "# 用re正则表达式模块进行各类正则表达式处理\n",
    "# 官网：https://docs.python.org/zh-cn/3.9/library/re.html\n",
    "# <span class=\"user-stars allstar50 rating\" title=\"力荐\"></span>"
   ],
   "metadata": {
    "collapsed": false,
    "pycharm": {
     "name": "#%%\n"
    }
   }
  },
  {
   "cell_type": "code",
   "execution_count": 15,
   "outputs": [],
   "source": [
    "markup = '<p class=\"title\"><b>The Little Prince</b></p>'"
   ],
   "metadata": {
    "collapsed": false,
    "pycharm": {
     "name": "#%%\n"
    }
   }
  },
  {
   "cell_type": "code",
   "execution_count": 16,
   "outputs": [],
   "source": [
    "soup = BeautifulSoup(markup, \"lxml\")"
   ],
   "metadata": {
    "collapsed": false,
    "pycharm": {
     "name": "#%%\n"
    }
   }
  },
  {
   "cell_type": "code",
   "execution_count": 17,
   "outputs": [
    {
     "data": {
      "text/plain": "<b>The Little Prince</b>"
     },
     "execution_count": 17,
     "metadata": {},
     "output_type": "execute_result"
    }
   ],
   "source": [
    "soup.b"
   ],
   "metadata": {
    "collapsed": false,
    "pycharm": {
     "name": "#%%\n"
    }
   }
  },
  {
   "cell_type": "code",
   "execution_count": 18,
   "outputs": [
    {
     "data": {
      "text/plain": "bs4.element.Tag"
     },
     "execution_count": 18,
     "metadata": {},
     "output_type": "execute_result"
    }
   ],
   "source": [
    "type(soup.b)"
   ],
   "metadata": {
    "collapsed": false,
    "pycharm": {
     "name": "#%%\n"
    }
   }
  },
  {
   "cell_type": "code",
   "execution_count": 19,
   "outputs": [],
   "source": [
    "tag = soup.p"
   ],
   "metadata": {
    "collapsed": false,
    "pycharm": {
     "name": "#%%\n"
    }
   }
  },
  {
   "cell_type": "code",
   "execution_count": 20,
   "outputs": [
    {
     "data": {
      "text/plain": "'p'"
     },
     "execution_count": 20,
     "metadata": {},
     "output_type": "execute_result"
    }
   ],
   "source": [
    "tag.name"
   ],
   "metadata": {
    "collapsed": false,
    "pycharm": {
     "name": "#%%\n"
    }
   }
  },
  {
   "cell_type": "code",
   "execution_count": 21,
   "outputs": [
    {
     "data": {
      "text/plain": "{'class': ['title']}"
     },
     "execution_count": 21,
     "metadata": {},
     "output_type": "execute_result"
    }
   ],
   "source": [
    "tag.attrs"
   ],
   "metadata": {
    "collapsed": false,
    "pycharm": {
     "name": "#%%\n"
    }
   }
  },
  {
   "cell_type": "code",
   "execution_count": 22,
   "outputs": [
    {
     "data": {
      "text/plain": "['title']"
     },
     "execution_count": 22,
     "metadata": {},
     "output_type": "execute_result"
    }
   ],
   "source": [
    "tag['class']"
   ],
   "metadata": {
    "collapsed": false,
    "pycharm": {
     "name": "#%%\n"
    }
   }
  },
  {
   "cell_type": "code",
   "execution_count": 23,
   "outputs": [
    {
     "data": {
      "text/plain": "'The Little Prince'"
     },
     "execution_count": 23,
     "metadata": {},
     "output_type": "execute_result"
    }
   ],
   "source": [
    "tag.string"
   ],
   "metadata": {
    "collapsed": false,
    "pycharm": {
     "name": "#%%\n"
    }
   }
  },
  {
   "cell_type": "code",
   "execution_count": 24,
   "outputs": [
    {
     "data": {
      "text/plain": "bs4.element.NavigableString"
     },
     "execution_count": 24,
     "metadata": {},
     "output_type": "execute_result"
    }
   ],
   "source": [
    "type(tag.string)"
   ],
   "metadata": {
    "collapsed": false,
    "pycharm": {
     "name": "#%%\n"
    }
   }
  },
  {
   "cell_type": "code",
   "execution_count": 25,
   "outputs": [
    {
     "data": {
      "text/plain": "[<b>The Little Prince</b>]"
     },
     "execution_count": 25,
     "metadata": {},
     "output_type": "execute_result"
    }
   ],
   "source": [
    "soup.find_all('b')"
   ],
   "metadata": {
    "collapsed": false,
    "pycharm": {
     "name": "#%%\n"
    }
   }
  },
  {
   "cell_type": "code",
   "execution_count": null,
   "outputs": [],
   "source": [],
   "metadata": {
    "collapsed": false,
    "pycharm": {
     "name": "#%%\n"
    }
   }
  }
 ],
 "metadata": {
  "kernelspec": {
   "display_name": "Python 3",
   "language": "python",
   "name": "python3"
  },
  "language_info": {
   "codemirror_mode": {
    "name": "ipython",
    "version": 2
   },
   "file_extension": ".py",
   "mimetype": "text/x-python",
   "name": "python",
   "nbconvert_exporter": "python",
   "pygments_lexer": "ipython2",
   "version": "2.7.6"
  }
 },
 "nbformat": 4,
 "nbformat_minor": 0
}