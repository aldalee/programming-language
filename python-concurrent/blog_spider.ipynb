{
 "cells": [
  {
   "cell_type": "markdown",
   "source": [
    "# 使用多线程，python爬虫被加速30倍"
   ],
   "metadata": {
    "collapsed": false,
    "pycharm": {
     "name": "#%% md\n"
    }
   }
  },
  {
   "cell_type": "code",
   "execution_count": 15,
   "outputs": [],
   "source": [
    "import requests\n",
    "import threading\n",
    "import time"
   ],
   "metadata": {
    "collapsed": false,
    "pycharm": {
     "name": "#%%\n"
    }
   }
  },
  {
   "cell_type": "code",
   "execution_count": 1,
   "outputs": [],
   "source": [
    "urls = [f'https://www.cnblogs.com/#{page}' for page in range(1, 51)]"
   ],
   "metadata": {
    "collapsed": false,
    "pycharm": {
     "name": "#%%\n"
    }
   }
  },
  {
   "cell_type": "code",
   "execution_count": 22,
   "outputs": [],
   "source": [
    "def craw(url):\n",
    "    r = requests.get(url)\n",
    "    print(r.url,len(r.text))"
   ],
   "metadata": {
    "collapsed": false,
    "pycharm": {
     "name": "#%%\n"
    }
   }
  },
  {
   "cell_type": "markdown",
   "source": [
    "## 单线程版本"
   ],
   "metadata": {
    "collapsed": false,
    "pycharm": {
     "name": "#%% md\n"
    }
   }
  },
  {
   "cell_type": "code",
   "execution_count": 8,
   "outputs": [],
   "source": [
    "def single_thread():\n",
    "    print(\"single_thread begin...\")\n",
    "    for url in urls:\n",
    "        craw(url)\n",
    "    print(\"single_thread end.\")"
   ],
   "metadata": {
    "collapsed": false,
    "pycharm": {
     "name": "#%%\n"
    }
   }
  },
  {
   "cell_type": "markdown",
   "source": [
    "## 多线程版本"
   ],
   "metadata": {
    "collapsed": false,
    "pycharm": {
     "name": "#%% md\n"
    }
   }
  },
  {
   "cell_type": "code",
   "execution_count": 9,
   "outputs": [],
   "source": [
    "def multi_thread():\n",
    "    print(\"multi_thread start...\")\n",
    "    threads = []\n",
    "    for url in urls:\n",
    "        threads.append(\n",
    "            threading.Thread(target=craw, args=(url,))\n",
    "        )\n",
    "    for thread in threads:\n",
    "        thread.start()\n",
    "    for thread in threads:\n",
    "        thread.join()\n",
    "    print(\"multi_thread end.\")"
   ],
   "metadata": {
    "collapsed": false,
    "pycharm": {
     "name": "#%%\n"
    }
   }
  },
  {
   "cell_type": "markdown",
   "source": [
    "## 测试单线程"
   ],
   "metadata": {
    "collapsed": false,
    "pycharm": {
     "name": "#%% md\n"
    }
   }
  },
  {
   "cell_type": "code",
   "execution_count": 11,
   "outputs": [
    {
     "name": "stdout",
     "output_type": "stream",
     "text": [
      "single_thread begin...\n",
      "https://www.cnblogs.com/#1 68870\n",
      "https://www.cnblogs.com/#2 68870\n",
      "https://www.cnblogs.com/#3 68870\n",
      "https://www.cnblogs.com/#4 68870\n",
      "https://www.cnblogs.com/#5 68870\n",
      "https://www.cnblogs.com/#6 68870\n",
      "https://www.cnblogs.com/#7 68870\n",
      "https://www.cnblogs.com/#8 68870\n",
      "https://www.cnblogs.com/#9 68870\n",
      "https://www.cnblogs.com/#10 68870\n",
      "https://www.cnblogs.com/#11 68870\n",
      "https://www.cnblogs.com/#12 68870\n",
      "https://www.cnblogs.com/#13 68870\n",
      "https://www.cnblogs.com/#14 68870\n",
      "https://www.cnblogs.com/#15 68870\n",
      "https://www.cnblogs.com/#16 68870\n",
      "https://www.cnblogs.com/#17 68870\n",
      "https://www.cnblogs.com/#18 68870\n",
      "https://www.cnblogs.com/#19 68870\n",
      "https://www.cnblogs.com/#20 68870\n",
      "https://www.cnblogs.com/#21 68870\n",
      "https://www.cnblogs.com/#22 68870\n",
      "https://www.cnblogs.com/#23 68870\n",
      "https://www.cnblogs.com/#24 68870\n",
      "https://www.cnblogs.com/#25 68870\n",
      "https://www.cnblogs.com/#26 68870\n",
      "https://www.cnblogs.com/#27 68870\n",
      "https://www.cnblogs.com/#28 68870\n",
      "https://www.cnblogs.com/#29 68870\n",
      "https://www.cnblogs.com/#30 68870\n",
      "https://www.cnblogs.com/#31 68870\n",
      "https://www.cnblogs.com/#32 68870\n",
      "https://www.cnblogs.com/#33 68870\n",
      "https://www.cnblogs.com/#34 68870\n",
      "https://www.cnblogs.com/#35 68870\n",
      "https://www.cnblogs.com/#36 68870\n",
      "https://www.cnblogs.com/#37 68870\n",
      "https://www.cnblogs.com/#38 68870\n",
      "https://www.cnblogs.com/#39 68870\n",
      "https://www.cnblogs.com/#40 68870\n",
      "https://www.cnblogs.com/#41 68870\n",
      "https://www.cnblogs.com/#42 68870\n",
      "https://www.cnblogs.com/#43 68870\n",
      "https://www.cnblogs.com/#44 68870\n",
      "https://www.cnblogs.com/#45 68870\n",
      "https://www.cnblogs.com/#46 68870\n",
      "https://www.cnblogs.com/#47 68870\n",
      "https://www.cnblogs.com/#48 68870\n",
      "https://www.cnblogs.com/#49 68870\n",
      "https://www.cnblogs.com/#50 68870\n",
      "single_thread end.\n",
      "single thread cost:14.256277322769165 seconds\n"
     ]
    }
   ],
   "source": [
    "start = time.time()\n",
    "single_thread()\n",
    "end = time.time()\n",
    "print(\"single thread cost:{} seconds\".format(end - start))"
   ],
   "metadata": {
    "collapsed": false,
    "pycharm": {
     "name": "#%%\n"
    }
   }
  },
  {
   "cell_type": "markdown",
   "source": [
    "## 测试多线程"
   ],
   "metadata": {
    "collapsed": false,
    "pycharm": {
     "name": "#%% md\n"
    }
   }
  },
  {
   "cell_type": "code",
   "execution_count": 12,
   "outputs": [
    {
     "name": "stdout",
     "output_type": "stream",
     "text": [
      "multi_thread start...\n",
      "https://www.cnblogs.com/#1 68870\n",
      "https://www.cnblogs.com/#23 68870\n",
      "https://www.cnblogs.com/#5 68870\n",
      "https://www.cnblogs.com/#10 68870\n",
      "https://www.cnblogs.com/#6 68870\n",
      "https://www.cnblogs.com/#9 68870\n",
      "https://www.cnblogs.com/#3 68870\n",
      "https://www.cnblogs.com/#20https://www.cnblogs.com/#2 68870\n",
      " 68870\n",
      "https://www.cnblogs.com/#16 https://www.cnblogs.com/#29 68870\n",
      "68870https://www.cnblogs.com/#25 68870\n",
      "https://www.cnblogs.com/#12 68870\n",
      "\n",
      "https://www.cnblogs.com/#4 68870\n",
      "https://www.cnblogs.com/#11 68870\n",
      "https://www.cnblogs.com/#36https://www.cnblogs.com/#13  68870\n",
      "68870\n",
      "https://www.cnblogs.com/#37 68870\n",
      "https://www.cnblogs.com/#35https://www.cnblogs.com/#42 https://www.cnblogs.com/#19 68870\n",
      " 6887068870\n",
      "\n",
      "https://www.cnblogs.com/#50https://www.cnblogs.com/#26https://www.cnblogs.com/#31 68870\n",
      "https://www.cnblogs.com/#14 68870\n",
      " https://www.cnblogs.com/#27 68870\n",
      "68870 68870\n",
      "\n",
      "https://www.cnblogs.com/#41 68870\n",
      "https://www.cnblogs.com/#18 https://www.cnblogs.com/#17 68870\n",
      "https://www.cnblogs.com/#28 68870\n",
      "https://www.cnblogs.com/#8 68870\n",
      "https://www.cnblogs.com/#7 68870\n",
      "https://www.cnblogs.com/#21 68870\n",
      "https://www.cnblogs.com/#38 68870\n",
      "68870https://www.cnblogs.com/#24 68870\n",
      "\n",
      "https://www.cnblogs.com/#39https://www.cnblogs.com/#44 68870\n",
      " 68870\n",
      "https://www.cnblogs.com/#49 68870\n",
      "https://www.cnblogs.com/#30https://www.cnblogs.com/#40 68870\n",
      " 68870\n",
      "https://www.cnblogs.com/#33https://www.cnblogs.com/#15 https://www.cnblogs.com/#32https://www.cnblogs.com/#43  68870\n",
      "https://www.cnblogs.com/#456887068870https://www.cnblogs.com/#22 https://www.cnblogs.com/#48 68870\n",
      " \n",
      " 6887068870\n",
      "https://www.cnblogs.com/#34 68870\n",
      "\n",
      "\n",
      "68870\n",
      "https://www.cnblogs.com/#46 68870\n",
      "https://www.cnblogs.com/#47 68870\n",
      "multi_thread end.\n",
      "multi_thread cost:0.4510071277618408 seconds\n"
     ]
    }
   ],
   "source": [
    "start = time.time()\n",
    "multi_thread()\n",
    "end = time.time()\n",
    "print(\"multi_thread cost:{} seconds\".format(end - start))"
   ],
   "metadata": {
    "collapsed": false,
    "pycharm": {
     "name": "#%%\n"
    }
   }
  },
  {
   "cell_type": "code",
   "execution_count": 13,
   "outputs": [
    {
     "data": {
      "text/plain": "31.60987143045186"
     },
     "execution_count": 13,
     "metadata": {},
     "output_type": "execute_result"
    }
   ],
   "source": [
    "14.256277322769165 / 0.4510071277618408"
   ],
   "metadata": {
    "collapsed": false,
    "pycharm": {
     "name": "#%%\n"
    }
   }
  }
 ],
 "metadata": {
  "kernelspec": {
   "display_name": "Python 3",
   "language": "python",
   "name": "python3"
  },
  "language_info": {
   "codemirror_mode": {
    "name": "ipython",
    "version": 2
   },
   "file_extension": ".py",
   "mimetype": "text/x-python",
   "name": "python",
   "nbconvert_exporter": "python",
   "pygments_lexer": "ipython2",
   "version": "2.7.6"
  }
 },
 "nbformat": 4,
 "nbformat_minor": 0
}