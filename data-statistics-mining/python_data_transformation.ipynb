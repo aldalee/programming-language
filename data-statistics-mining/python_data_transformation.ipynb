{
 "cells": [
  {
   "cell_type": "markdown",
   "source": [
    "# 数据变换\n",
    "把数据变换成适合的形式\n",
    "常见的方式\n",
    "- 规范化\n",
    "- 连续属性离散化\n",
    "- 特征二值化"
   ],
   "metadata": {
    "collapsed": false,
    "pycharm": {
     "name": "#%% md\n"
    }
   }
  },
  {
   "cell_type": "markdown",
   "source": [
    "## 数据规范化\n",
    "解决哪些影响？\n",
    "- 量纲不同\n",
    "- 数值范围差异大\n",
    "规范化常用方法\n",
    "- 最小-最大规范化（离差标准化）\n",
    "- z-score规范化（零均值标准化）\n",
    "- 小数定标规范化"
   ],
   "metadata": {
    "collapsed": false,
    "pycharm": {
     "name": "#%% md\n"
    }
   }
  },
  {
   "cell_type": "code",
   "execution_count": 51,
   "outputs": [],
   "source": [
    "import numpy as np\n",
    "import pandas as pd\n",
    "from sklearn import datasets\n",
    "from sklearn import preprocessing\n",
    "from sklearn.preprocessing import Binarizer\n",
    "import matplotlib.pyplot as plt"
   ],
   "metadata": {
    "collapsed": false,
    "pycharm": {
     "name": "#%%\n"
    }
   }
  },
  {
   "cell_type": "code",
   "execution_count": 2,
   "outputs": [],
   "source": [
    "# 波士顿房价数据集\n",
    "boston = datasets.load_boston()"
   ],
   "metadata": {
    "collapsed": false,
    "pycharm": {
     "name": "#%%\n"
    }
   }
  },
  {
   "cell_type": "code",
   "execution_count": 3,
   "outputs": [
    {
     "data": {
      "text/plain": "array(['CRIM', 'ZN', 'INDUS', 'CHAS', 'NOX', 'RM', 'AGE', 'DIS', 'RAD',\n       'TAX', 'PTRATIO', 'B', 'LSTAT'], dtype='<U7')"
     },
     "execution_count": 3,
     "metadata": {},
     "output_type": "execute_result"
    }
   ],
   "source": [
    "boston.feature_names"
   ],
   "metadata": {
    "collapsed": false,
    "pycharm": {
     "name": "#%%\n"
    }
   }
  },
  {
   "cell_type": "code",
   "execution_count": 4,
   "outputs": [
    {
     "data": {
      "text/plain": "array([24. , 21.6, 34.7, 33.4, 36.2, 28.7, 22.9, 27.1, 16.5, 18.9, 15. ,\n       18.9, 21.7, 20.4, 18.2, 19.9, 23.1, 17.5, 20.2, 18.2, 13.6, 19.6,\n       15.2, 14.5, 15.6, 13.9, 16.6, 14.8, 18.4, 21. , 12.7, 14.5, 13.2,\n       13.1, 13.5, 18.9, 20. , 21. , 24.7, 30.8, 34.9, 26.6, 25.3, 24.7,\n       21.2, 19.3, 20. , 16.6, 14.4, 19.4, 19.7, 20.5, 25. , 23.4, 18.9,\n       35.4, 24.7, 31.6, 23.3, 19.6, 18.7, 16. , 22.2, 25. , 33. , 23.5,\n       19.4, 22. , 17.4, 20.9, 24.2, 21.7, 22.8, 23.4, 24.1, 21.4, 20. ,\n       20.8, 21.2, 20.3, 28. , 23.9, 24.8, 22.9, 23.9, 26.6, 22.5, 22.2,\n       23.6, 28.7, 22.6, 22. , 22.9, 25. , 20.6, 28.4, 21.4, 38.7, 43.8,\n       33.2, 27.5, 26.5, 18.6, 19.3, 20.1, 19.5, 19.5, 20.4, 19.8, 19.4,\n       21.7, 22.8, 18.8, 18.7, 18.5, 18.3, 21.2, 19.2, 20.4, 19.3, 22. ,\n       20.3, 20.5, 17.3, 18.8, 21.4, 15.7, 16.2, 18. , 14.3, 19.2, 19.6,\n       23. , 18.4, 15.6, 18.1, 17.4, 17.1, 13.3, 17.8, 14. , 14.4, 13.4,\n       15.6, 11.8, 13.8, 15.6, 14.6, 17.8, 15.4, 21.5, 19.6, 15.3, 19.4,\n       17. , 15.6, 13.1, 41.3, 24.3, 23.3, 27. , 50. , 50. , 50. , 22.7,\n       25. , 50. , 23.8, 23.8, 22.3, 17.4, 19.1, 23.1, 23.6, 22.6, 29.4,\n       23.2, 24.6, 29.9, 37.2, 39.8, 36.2, 37.9, 32.5, 26.4, 29.6, 50. ,\n       32. , 29.8, 34.9, 37. , 30.5, 36.4, 31.1, 29.1, 50. , 33.3, 30.3,\n       34.6, 34.9, 32.9, 24.1, 42.3, 48.5, 50. , 22.6, 24.4, 22.5, 24.4,\n       20. , 21.7, 19.3, 22.4, 28.1, 23.7, 25. , 23.3, 28.7, 21.5, 23. ,\n       26.7, 21.7, 27.5, 30.1, 44.8, 50. , 37.6, 31.6, 46.7, 31.5, 24.3,\n       31.7, 41.7, 48.3, 29. , 24. , 25.1, 31.5, 23.7, 23.3, 22. , 20.1,\n       22.2, 23.7, 17.6, 18.5, 24.3, 20.5, 24.5, 26.2, 24.4, 24.8, 29.6,\n       42.8, 21.9, 20.9, 44. , 50. , 36. , 30.1, 33.8, 43.1, 48.8, 31. ,\n       36.5, 22.8, 30.7, 50. , 43.5, 20.7, 21.1, 25.2, 24.4, 35.2, 32.4,\n       32. , 33.2, 33.1, 29.1, 35.1, 45.4, 35.4, 46. , 50. , 32.2, 22. ,\n       20.1, 23.2, 22.3, 24.8, 28.5, 37.3, 27.9, 23.9, 21.7, 28.6, 27.1,\n       20.3, 22.5, 29. , 24.8, 22. , 26.4, 33.1, 36.1, 28.4, 33.4, 28.2,\n       22.8, 20.3, 16.1, 22.1, 19.4, 21.6, 23.8, 16.2, 17.8, 19.8, 23.1,\n       21. , 23.8, 23.1, 20.4, 18.5, 25. , 24.6, 23. , 22.2, 19.3, 22.6,\n       19.8, 17.1, 19.4, 22.2, 20.7, 21.1, 19.5, 18.5, 20.6, 19. , 18.7,\n       32.7, 16.5, 23.9, 31.2, 17.5, 17.2, 23.1, 24.5, 26.6, 22.9, 24.1,\n       18.6, 30.1, 18.2, 20.6, 17.8, 21.7, 22.7, 22.6, 25. , 19.9, 20.8,\n       16.8, 21.9, 27.5, 21.9, 23.1, 50. , 50. , 50. , 50. , 50. , 13.8,\n       13.8, 15. , 13.9, 13.3, 13.1, 10.2, 10.4, 10.9, 11.3, 12.3,  8.8,\n        7.2, 10.5,  7.4, 10.2, 11.5, 15.1, 23.2,  9.7, 13.8, 12.7, 13.1,\n       12.5,  8.5,  5. ,  6.3,  5.6,  7.2, 12.1,  8.3,  8.5,  5. , 11.9,\n       27.9, 17.2, 27.5, 15. , 17.2, 17.9, 16.3,  7. ,  7.2,  7.5, 10.4,\n        8.8,  8.4, 16.7, 14.2, 20.8, 13.4, 11.7,  8.3, 10.2, 10.9, 11. ,\n        9.5, 14.5, 14.1, 16.1, 14.3, 11.7, 13.4,  9.6,  8.7,  8.4, 12.8,\n       10.5, 17.1, 18.4, 15.4, 10.8, 11.8, 14.9, 12.6, 14.1, 13. , 13.4,\n       15.2, 16.1, 17.8, 14.9, 14.1, 12.7, 13.5, 14.9, 20. , 16.4, 17.7,\n       19.5, 20.2, 21.4, 19.9, 19. , 19.1, 19.1, 20.1, 19.9, 19.6, 23.2,\n       29.8, 13.8, 13.3, 16.7, 12. , 14.6, 21.4, 23. , 23.7, 25. , 21.8,\n       20.6, 21.2, 19.1, 20.6, 15.2,  7. ,  8.1, 13.6, 20.1, 21.8, 24.5,\n       23.1, 19.7, 18.3, 21.2, 17.5, 16.8, 22.4, 20.6, 23.9, 22. , 11.9])"
     },
     "execution_count": 4,
     "metadata": {},
     "output_type": "execute_result"
    }
   ],
   "source": [
    "boston.target"
   ],
   "metadata": {
    "collapsed": false,
    "pycharm": {
     "name": "#%%\n"
    }
   }
  },
  {
   "cell_type": "code",
   "execution_count": 6,
   "outputs": [
    {
     "data": {
      "text/plain": "{'data': array([[6.3200e-03, 1.8000e+01, 2.3100e+00, ..., 1.5300e+01, 3.9690e+02,\n         4.9800e+00],\n        [2.7310e-02, 0.0000e+00, 7.0700e+00, ..., 1.7800e+01, 3.9690e+02,\n         9.1400e+00],\n        [2.7290e-02, 0.0000e+00, 7.0700e+00, ..., 1.7800e+01, 3.9283e+02,\n         4.0300e+00],\n        ...,\n        [6.0760e-02, 0.0000e+00, 1.1930e+01, ..., 2.1000e+01, 3.9690e+02,\n         5.6400e+00],\n        [1.0959e-01, 0.0000e+00, 1.1930e+01, ..., 2.1000e+01, 3.9345e+02,\n         6.4800e+00],\n        [4.7410e-02, 0.0000e+00, 1.1930e+01, ..., 2.1000e+01, 3.9690e+02,\n         7.8800e+00]]),\n 'target': array([24. , 21.6, 34.7, 33.4, 36.2, 28.7, 22.9, 27.1, 16.5, 18.9, 15. ,\n        18.9, 21.7, 20.4, 18.2, 19.9, 23.1, 17.5, 20.2, 18.2, 13.6, 19.6,\n        15.2, 14.5, 15.6, 13.9, 16.6, 14.8, 18.4, 21. , 12.7, 14.5, 13.2,\n        13.1, 13.5, 18.9, 20. , 21. , 24.7, 30.8, 34.9, 26.6, 25.3, 24.7,\n        21.2, 19.3, 20. , 16.6, 14.4, 19.4, 19.7, 20.5, 25. , 23.4, 18.9,\n        35.4, 24.7, 31.6, 23.3, 19.6, 18.7, 16. , 22.2, 25. , 33. , 23.5,\n        19.4, 22. , 17.4, 20.9, 24.2, 21.7, 22.8, 23.4, 24.1, 21.4, 20. ,\n        20.8, 21.2, 20.3, 28. , 23.9, 24.8, 22.9, 23.9, 26.6, 22.5, 22.2,\n        23.6, 28.7, 22.6, 22. , 22.9, 25. , 20.6, 28.4, 21.4, 38.7, 43.8,\n        33.2, 27.5, 26.5, 18.6, 19.3, 20.1, 19.5, 19.5, 20.4, 19.8, 19.4,\n        21.7, 22.8, 18.8, 18.7, 18.5, 18.3, 21.2, 19.2, 20.4, 19.3, 22. ,\n        20.3, 20.5, 17.3, 18.8, 21.4, 15.7, 16.2, 18. , 14.3, 19.2, 19.6,\n        23. , 18.4, 15.6, 18.1, 17.4, 17.1, 13.3, 17.8, 14. , 14.4, 13.4,\n        15.6, 11.8, 13.8, 15.6, 14.6, 17.8, 15.4, 21.5, 19.6, 15.3, 19.4,\n        17. , 15.6, 13.1, 41.3, 24.3, 23.3, 27. , 50. , 50. , 50. , 22.7,\n        25. , 50. , 23.8, 23.8, 22.3, 17.4, 19.1, 23.1, 23.6, 22.6, 29.4,\n        23.2, 24.6, 29.9, 37.2, 39.8, 36.2, 37.9, 32.5, 26.4, 29.6, 50. ,\n        32. , 29.8, 34.9, 37. , 30.5, 36.4, 31.1, 29.1, 50. , 33.3, 30.3,\n        34.6, 34.9, 32.9, 24.1, 42.3, 48.5, 50. , 22.6, 24.4, 22.5, 24.4,\n        20. , 21.7, 19.3, 22.4, 28.1, 23.7, 25. , 23.3, 28.7, 21.5, 23. ,\n        26.7, 21.7, 27.5, 30.1, 44.8, 50. , 37.6, 31.6, 46.7, 31.5, 24.3,\n        31.7, 41.7, 48.3, 29. , 24. , 25.1, 31.5, 23.7, 23.3, 22. , 20.1,\n        22.2, 23.7, 17.6, 18.5, 24.3, 20.5, 24.5, 26.2, 24.4, 24.8, 29.6,\n        42.8, 21.9, 20.9, 44. , 50. , 36. , 30.1, 33.8, 43.1, 48.8, 31. ,\n        36.5, 22.8, 30.7, 50. , 43.5, 20.7, 21.1, 25.2, 24.4, 35.2, 32.4,\n        32. , 33.2, 33.1, 29.1, 35.1, 45.4, 35.4, 46. , 50. , 32.2, 22. ,\n        20.1, 23.2, 22.3, 24.8, 28.5, 37.3, 27.9, 23.9, 21.7, 28.6, 27.1,\n        20.3, 22.5, 29. , 24.8, 22. , 26.4, 33.1, 36.1, 28.4, 33.4, 28.2,\n        22.8, 20.3, 16.1, 22.1, 19.4, 21.6, 23.8, 16.2, 17.8, 19.8, 23.1,\n        21. , 23.8, 23.1, 20.4, 18.5, 25. , 24.6, 23. , 22.2, 19.3, 22.6,\n        19.8, 17.1, 19.4, 22.2, 20.7, 21.1, 19.5, 18.5, 20.6, 19. , 18.7,\n        32.7, 16.5, 23.9, 31.2, 17.5, 17.2, 23.1, 24.5, 26.6, 22.9, 24.1,\n        18.6, 30.1, 18.2, 20.6, 17.8, 21.7, 22.7, 22.6, 25. , 19.9, 20.8,\n        16.8, 21.9, 27.5, 21.9, 23.1, 50. , 50. , 50. , 50. , 50. , 13.8,\n        13.8, 15. , 13.9, 13.3, 13.1, 10.2, 10.4, 10.9, 11.3, 12.3,  8.8,\n         7.2, 10.5,  7.4, 10.2, 11.5, 15.1, 23.2,  9.7, 13.8, 12.7, 13.1,\n        12.5,  8.5,  5. ,  6.3,  5.6,  7.2, 12.1,  8.3,  8.5,  5. , 11.9,\n        27.9, 17.2, 27.5, 15. , 17.2, 17.9, 16.3,  7. ,  7.2,  7.5, 10.4,\n         8.8,  8.4, 16.7, 14.2, 20.8, 13.4, 11.7,  8.3, 10.2, 10.9, 11. ,\n         9.5, 14.5, 14.1, 16.1, 14.3, 11.7, 13.4,  9.6,  8.7,  8.4, 12.8,\n        10.5, 17.1, 18.4, 15.4, 10.8, 11.8, 14.9, 12.6, 14.1, 13. , 13.4,\n        15.2, 16.1, 17.8, 14.9, 14.1, 12.7, 13.5, 14.9, 20. , 16.4, 17.7,\n        19.5, 20.2, 21.4, 19.9, 19. , 19.1, 19.1, 20.1, 19.9, 19.6, 23.2,\n        29.8, 13.8, 13.3, 16.7, 12. , 14.6, 21.4, 23. , 23.7, 25. , 21.8,\n        20.6, 21.2, 19.1, 20.6, 15.2,  7. ,  8.1, 13.6, 20.1, 21.8, 24.5,\n        23.1, 19.7, 18.3, 21.2, 17.5, 16.8, 22.4, 20.6, 23.9, 22. , 11.9]),\n 'feature_names': array(['CRIM', 'ZN', 'INDUS', 'CHAS', 'NOX', 'RM', 'AGE', 'DIS', 'RAD',\n        'TAX', 'PTRATIO', 'B', 'LSTAT'], dtype='<U7'),\n 'DESCR': \".. _boston_dataset:\\n\\nBoston house prices dataset\\n---------------------------\\n\\n**Data Set Characteristics:**  \\n\\n    :Number of Instances: 506 \\n\\n    :Number of Attributes: 13 numeric/categorical predictive. Median Value (attribute 14) is usually the target.\\n\\n    :Attribute Information (in order):\\n        - CRIM     per capita crime rate by town\\n        - ZN       proportion of residential land zoned for lots over 25,000 sq.ft.\\n        - INDUS    proportion of non-retail business acres per town\\n        - CHAS     Charles River dummy variable (= 1 if tract bounds river; 0 otherwise)\\n        - NOX      nitric oxides concentration (parts per 10 million)\\n        - RM       average number of rooms per dwelling\\n        - AGE      proportion of owner-occupied units built prior to 1940\\n        - DIS      weighted distances to five Boston employment centres\\n        - RAD      index of accessibility to radial highways\\n        - TAX      full-value property-tax rate per $10,000\\n        - PTRATIO  pupil-teacher ratio by town\\n        - B        1000(Bk - 0.63)^2 where Bk is the proportion of black people by town\\n        - LSTAT    % lower status of the population\\n        - MEDV     Median value of owner-occupied homes in $1000's\\n\\n    :Missing Attribute Values: None\\n\\n    :Creator: Harrison, D. and Rubinfeld, D.L.\\n\\nThis is a copy of UCI ML housing dataset.\\nhttps://archive.ics.uci.edu/ml/machine-learning-databases/housing/\\n\\n\\nThis dataset was taken from the StatLib library which is maintained at Carnegie Mellon University.\\n\\nThe Boston house-price data of Harrison, D. and Rubinfeld, D.L. 'Hedonic\\nprices and the demand for clean air', J. Environ. Economics & Management,\\nvol.5, 81-102, 1978.   Used in Belsley, Kuh & Welsch, 'Regression diagnostics\\n...', Wiley, 1980.   N.B. Various transformations are used in the table on\\npages 244-261 of the latter.\\n\\nThe Boston house-price data has been used in many machine learning papers that address regression\\nproblems.   \\n     \\n.. topic:: References\\n\\n   - Belsley, Kuh & Welsch, 'Regression diagnostics: Identifying Influential Data and Sources of Collinearity', Wiley, 1980. 244-261.\\n   - Quinlan,R. (1993). Combining Instance-Based and Model-Based Learning. In Proceedings on the Tenth International Conference of Machine Learning, 236-243, University of Massachusetts, Amherst. Morgan Kaufmann.\\n\",\n 'filename': 'C:\\\\ProgramData\\\\Anaconda3\\\\lib\\\\site-packages\\\\sklearn\\\\datasets\\\\data\\\\boston_house_prices.csv'}"
     },
     "execution_count": 6,
     "metadata": {},
     "output_type": "execute_result"
    }
   ],
   "source": [
    "boston"
   ],
   "metadata": {
    "collapsed": false,
    "pycharm": {
     "name": "#%%\n"
    }
   }
  },
  {
   "cell_type": "code",
   "execution_count": 8,
   "outputs": [],
   "source": [
    "df = pd.DataFrame(boston.data[:, 4:7])"
   ],
   "metadata": {
    "collapsed": false,
    "pycharm": {
     "name": "#%%\n"
    }
   }
  },
  {
   "cell_type": "code",
   "execution_count": 10,
   "outputs": [],
   "source": [
    "df.columns = boston.feature_names[4:7]"
   ],
   "metadata": {
    "collapsed": false,
    "pycharm": {
     "name": "#%%\n"
    }
   }
  },
  {
   "cell_type": "code",
   "execution_count": 11,
   "outputs": [
    {
     "data": {
      "text/plain": "     NOX     RM   AGE\n0  0.538  6.575  65.2\n1  0.469  6.421  78.9\n2  0.469  7.185  61.1\n3  0.458  6.998  45.8\n4  0.458  7.147  54.2",
      "text/html": "<div>\n<style scoped>\n    .dataframe tbody tr th:only-of-type {\n        vertical-align: middle;\n    }\n\n    .dataframe tbody tr th {\n        vertical-align: top;\n    }\n\n    .dataframe thead th {\n        text-align: right;\n    }\n</style>\n<table border=\"1\" class=\"dataframe\">\n  <thead>\n    <tr style=\"text-align: right;\">\n      <th></th>\n      <th>NOX</th>\n      <th>RM</th>\n      <th>AGE</th>\n    </tr>\n  </thead>\n  <tbody>\n    <tr>\n      <th>0</th>\n      <td>0.538</td>\n      <td>6.575</td>\n      <td>65.2</td>\n    </tr>\n    <tr>\n      <th>1</th>\n      <td>0.469</td>\n      <td>6.421</td>\n      <td>78.9</td>\n    </tr>\n    <tr>\n      <th>2</th>\n      <td>0.469</td>\n      <td>7.185</td>\n      <td>61.1</td>\n    </tr>\n    <tr>\n      <th>3</th>\n      <td>0.458</td>\n      <td>6.998</td>\n      <td>45.8</td>\n    </tr>\n    <tr>\n      <th>4</th>\n      <td>0.458</td>\n      <td>7.147</td>\n      <td>54.2</td>\n    </tr>\n  </tbody>\n</table>\n</div>"
     },
     "execution_count": 11,
     "metadata": {},
     "output_type": "execute_result"
    }
   ],
   "source": [
    "df.head()"
   ],
   "metadata": {
    "collapsed": false,
    "pycharm": {
     "name": "#%%\n"
    }
   }
  },
  {
   "cell_type": "code",
   "execution_count": 12,
   "outputs": [
    {
     "name": "stdout",
     "output_type": "stream",
     "text": [
      "<class 'pandas.core.frame.DataFrame'>\n",
      "RangeIndex: 506 entries, 0 to 505\n",
      "Data columns (total 3 columns):\n",
      " #   Column  Non-Null Count  Dtype  \n",
      "---  ------  --------------  -----  \n",
      " 0   NOX     506 non-null    float64\n",
      " 1   RM      506 non-null    float64\n",
      " 2   AGE     506 non-null    float64\n",
      "dtypes: float64(3)\n",
      "memory usage: 12.0 KB\n"
     ]
    }
   ],
   "source": [
    "df.info()"
   ],
   "metadata": {
    "collapsed": false,
    "pycharm": {
     "name": "#%%\n"
    }
   }
  },
  {
   "cell_type": "markdown",
   "source": [
    "### 最小-最大规范化\n",
    "$x{'}=\\frac{x-min}{max-min} $"
   ],
   "metadata": {
    "collapsed": false,
    "pycharm": {
     "name": "#%% md\n"
    }
   }
  },
  {
   "cell_type": "code",
   "execution_count": 14,
   "outputs": [
    {
     "data": {
      "text/plain": "          NOX        RM       AGE\n0    0.314815  0.577505  0.641607\n1    0.172840  0.547998  0.782698\n2    0.172840  0.694386  0.599382\n3    0.150206  0.658555  0.441813\n4    0.150206  0.687105  0.528321\n..        ...       ...       ...\n501  0.386831  0.580954  0.681771\n502  0.386831  0.490324  0.760041\n503  0.386831  0.654340  0.907312\n504  0.386831  0.619467  0.889804\n505  0.386831  0.473079  0.802266\n\n[506 rows x 3 columns]",
      "text/html": "<div>\n<style scoped>\n    .dataframe tbody tr th:only-of-type {\n        vertical-align: middle;\n    }\n\n    .dataframe tbody tr th {\n        vertical-align: top;\n    }\n\n    .dataframe thead th {\n        text-align: right;\n    }\n</style>\n<table border=\"1\" class=\"dataframe\">\n  <thead>\n    <tr style=\"text-align: right;\">\n      <th></th>\n      <th>NOX</th>\n      <th>RM</th>\n      <th>AGE</th>\n    </tr>\n  </thead>\n  <tbody>\n    <tr>\n      <th>0</th>\n      <td>0.314815</td>\n      <td>0.577505</td>\n      <td>0.641607</td>\n    </tr>\n    <tr>\n      <th>1</th>\n      <td>0.172840</td>\n      <td>0.547998</td>\n      <td>0.782698</td>\n    </tr>\n    <tr>\n      <th>2</th>\n      <td>0.172840</td>\n      <td>0.694386</td>\n      <td>0.599382</td>\n    </tr>\n    <tr>\n      <th>3</th>\n      <td>0.150206</td>\n      <td>0.658555</td>\n      <td>0.441813</td>\n    </tr>\n    <tr>\n      <th>4</th>\n      <td>0.150206</td>\n      <td>0.687105</td>\n      <td>0.528321</td>\n    </tr>\n    <tr>\n      <th>...</th>\n      <td>...</td>\n      <td>...</td>\n      <td>...</td>\n    </tr>\n    <tr>\n      <th>501</th>\n      <td>0.386831</td>\n      <td>0.580954</td>\n      <td>0.681771</td>\n    </tr>\n    <tr>\n      <th>502</th>\n      <td>0.386831</td>\n      <td>0.490324</td>\n      <td>0.760041</td>\n    </tr>\n    <tr>\n      <th>503</th>\n      <td>0.386831</td>\n      <td>0.654340</td>\n      <td>0.907312</td>\n    </tr>\n    <tr>\n      <th>504</th>\n      <td>0.386831</td>\n      <td>0.619467</td>\n      <td>0.889804</td>\n    </tr>\n    <tr>\n      <th>505</th>\n      <td>0.386831</td>\n      <td>0.473079</td>\n      <td>0.802266</td>\n    </tr>\n  </tbody>\n</table>\n<p>506 rows × 3 columns</p>\n</div>"
     },
     "execution_count": 14,
     "metadata": {},
     "output_type": "execute_result"
    }
   ],
   "source": [
    "(df - df.min()) / (df.max() - df.min())"
   ],
   "metadata": {
    "collapsed": false,
    "pycharm": {
     "name": "#%%\n"
    }
   }
  },
  {
   "cell_type": "code",
   "execution_count": 16,
   "outputs": [
    {
     "data": {
      "text/plain": "array([[0.31481481, 0.57750527, 0.64160659],\n       [0.17283951, 0.5479977 , 0.78269825],\n       [0.17283951, 0.6943859 , 0.59938208],\n       ...,\n       [0.38683128, 0.65433991, 0.90731205],\n       [0.38683128, 0.61946733, 0.88980433],\n       [0.38683128, 0.47307913, 0.80226571]])"
     },
     "execution_count": 16,
     "metadata": {},
     "output_type": "execute_result"
    }
   ],
   "source": [
    "preprocessing.minmax_scale(df)"
   ],
   "metadata": {
    "collapsed": false,
    "pycharm": {
     "name": "#%%\n"
    }
   }
  },
  {
   "cell_type": "markdown",
   "source": [
    "### z-score规范化\n",
    "$x'=\\frac{x-\\bar{x} }{\\sigma }$\n",
    "\n",
    "特征：\n",
    "- 使用最多\n",
    "- 处理后数据的均值为0，标准差为1"
   ],
   "metadata": {
    "collapsed": false,
    "pycharm": {
     "name": "#%% md\n"
    }
   }
  },
  {
   "cell_type": "code",
   "execution_count": 17,
   "outputs": [
    {
     "data": {
      "text/plain": "          NOX        RM       AGE\n0   -0.144075  0.413263 -0.119895\n1   -0.739530  0.194082  0.366803\n2   -0.739530  1.281446 -0.265549\n3   -0.834458  1.015298 -0.809088\n4   -0.834458  1.227362 -0.510674\n..        ...       ...       ...\n501  0.157968  0.438881  0.018654\n502  0.157968 -0.234316  0.288648\n503  0.157968  0.983986  0.796661\n504  0.157968  0.724955  0.736268\n505  0.157968 -0.362408  0.434302\n\n[506 rows x 3 columns]",
      "text/html": "<div>\n<style scoped>\n    .dataframe tbody tr th:only-of-type {\n        vertical-align: middle;\n    }\n\n    .dataframe tbody tr th {\n        vertical-align: top;\n    }\n\n    .dataframe thead th {\n        text-align: right;\n    }\n</style>\n<table border=\"1\" class=\"dataframe\">\n  <thead>\n    <tr style=\"text-align: right;\">\n      <th></th>\n      <th>NOX</th>\n      <th>RM</th>\n      <th>AGE</th>\n    </tr>\n  </thead>\n  <tbody>\n    <tr>\n      <th>0</th>\n      <td>-0.144075</td>\n      <td>0.413263</td>\n      <td>-0.119895</td>\n    </tr>\n    <tr>\n      <th>1</th>\n      <td>-0.739530</td>\n      <td>0.194082</td>\n      <td>0.366803</td>\n    </tr>\n    <tr>\n      <th>2</th>\n      <td>-0.739530</td>\n      <td>1.281446</td>\n      <td>-0.265549</td>\n    </tr>\n    <tr>\n      <th>3</th>\n      <td>-0.834458</td>\n      <td>1.015298</td>\n      <td>-0.809088</td>\n    </tr>\n    <tr>\n      <th>4</th>\n      <td>-0.834458</td>\n      <td>1.227362</td>\n      <td>-0.510674</td>\n    </tr>\n    <tr>\n      <th>...</th>\n      <td>...</td>\n      <td>...</td>\n      <td>...</td>\n    </tr>\n    <tr>\n      <th>501</th>\n      <td>0.157968</td>\n      <td>0.438881</td>\n      <td>0.018654</td>\n    </tr>\n    <tr>\n      <th>502</th>\n      <td>0.157968</td>\n      <td>-0.234316</td>\n      <td>0.288648</td>\n    </tr>\n    <tr>\n      <th>503</th>\n      <td>0.157968</td>\n      <td>0.983986</td>\n      <td>0.796661</td>\n    </tr>\n    <tr>\n      <th>504</th>\n      <td>0.157968</td>\n      <td>0.724955</td>\n      <td>0.736268</td>\n    </tr>\n    <tr>\n      <th>505</th>\n      <td>0.157968</td>\n      <td>-0.362408</td>\n      <td>0.434302</td>\n    </tr>\n  </tbody>\n</table>\n<p>506 rows × 3 columns</p>\n</div>"
     },
     "execution_count": 17,
     "metadata": {},
     "output_type": "execute_result"
    }
   ],
   "source": [
    "(df - df.mean()) / df.std()"
   ],
   "metadata": {
    "collapsed": false,
    "pycharm": {
     "name": "#%%\n"
    }
   }
  },
  {
   "cell_type": "code",
   "execution_count": 18,
   "outputs": [
    {
     "data": {
      "text/plain": "array([[-0.14421743,  0.41367189, -0.12001342],\n       [-0.74026221,  0.19427445,  0.36716642],\n       [-0.74026221,  1.28271368, -0.26581176],\n       ...,\n       [ 0.15812412,  0.98496002,  0.79744934],\n       [ 0.15812412,  0.72567214,  0.73699637],\n       [ 0.15812412, -0.36276709,  0.43473151]])"
     },
     "execution_count": 18,
     "metadata": {},
     "output_type": "execute_result"
    }
   ],
   "source": [
    "preprocessing.scale(df)"
   ],
   "metadata": {
    "collapsed": false,
    "pycharm": {
     "name": "#%%\n"
    }
   }
  },
  {
   "cell_type": "markdown",
   "source": [
    "### 小数定标规范化\n",
    "$x'=\\frac{x }{10^{j}} $\n",
    "\n",
    "特征：\n",
    "- 移动小数点位置，移动位数取决于属性绝对值的最大值\n",
    "- 常见落在[-1,1]之间"
   ],
   "metadata": {
    "collapsed": false,
    "pycharm": {
     "name": "#%% md\n"
    }
   }
  },
  {
   "cell_type": "code",
   "execution_count": 21,
   "outputs": [
    {
     "data": {
      "text/plain": "       NOX      RM    AGE\n0    0.538  0.6575  0.652\n1    0.469  0.6421  0.789\n2    0.469  0.7185  0.611\n3    0.458  0.6998  0.458\n4    0.458  0.7147  0.542\n..     ...     ...    ...\n501  0.573  0.6593  0.691\n502  0.573  0.6120  0.767\n503  0.573  0.6976  0.910\n504  0.573  0.6794  0.893\n505  0.573  0.6030  0.808\n\n[506 rows x 3 columns]",
      "text/html": "<div>\n<style scoped>\n    .dataframe tbody tr th:only-of-type {\n        vertical-align: middle;\n    }\n\n    .dataframe tbody tr th {\n        vertical-align: top;\n    }\n\n    .dataframe thead th {\n        text-align: right;\n    }\n</style>\n<table border=\"1\" class=\"dataframe\">\n  <thead>\n    <tr style=\"text-align: right;\">\n      <th></th>\n      <th>NOX</th>\n      <th>RM</th>\n      <th>AGE</th>\n    </tr>\n  </thead>\n  <tbody>\n    <tr>\n      <th>0</th>\n      <td>0.538</td>\n      <td>0.6575</td>\n      <td>0.652</td>\n    </tr>\n    <tr>\n      <th>1</th>\n      <td>0.469</td>\n      <td>0.6421</td>\n      <td>0.789</td>\n    </tr>\n    <tr>\n      <th>2</th>\n      <td>0.469</td>\n      <td>0.7185</td>\n      <td>0.611</td>\n    </tr>\n    <tr>\n      <th>3</th>\n      <td>0.458</td>\n      <td>0.6998</td>\n      <td>0.458</td>\n    </tr>\n    <tr>\n      <th>4</th>\n      <td>0.458</td>\n      <td>0.7147</td>\n      <td>0.542</td>\n    </tr>\n    <tr>\n      <th>...</th>\n      <td>...</td>\n      <td>...</td>\n      <td>...</td>\n    </tr>\n    <tr>\n      <th>501</th>\n      <td>0.573</td>\n      <td>0.6593</td>\n      <td>0.691</td>\n    </tr>\n    <tr>\n      <th>502</th>\n      <td>0.573</td>\n      <td>0.6120</td>\n      <td>0.767</td>\n    </tr>\n    <tr>\n      <th>503</th>\n      <td>0.573</td>\n      <td>0.6976</td>\n      <td>0.910</td>\n    </tr>\n    <tr>\n      <th>504</th>\n      <td>0.573</td>\n      <td>0.6794</td>\n      <td>0.893</td>\n    </tr>\n    <tr>\n      <th>505</th>\n      <td>0.573</td>\n      <td>0.6030</td>\n      <td>0.808</td>\n    </tr>\n  </tbody>\n</table>\n<p>506 rows × 3 columns</p>\n</div>"
     },
     "execution_count": 21,
     "metadata": {},
     "output_type": "execute_result"
    }
   ],
   "source": [
    "df / 10 ** np.ceil(np.log10(df.abs().max()))"
   ],
   "metadata": {
    "collapsed": false,
    "pycharm": {
     "name": "#%%\n"
    }
   }
  },
  {
   "cell_type": "markdown",
   "source": [
    "## 连续属性离散化\n",
    "方法：\n",
    "- 分箱：等宽法、等频法\n",
    "- 聚类"
   ],
   "metadata": {
    "collapsed": false,
    "pycharm": {
     "name": "#%% md\n"
    }
   }
  },
  {
   "cell_type": "markdown",
   "source": [
    "### 等宽法"
   ],
   "metadata": {
    "collapsed": false,
    "pycharm": {
     "name": "#%% md\n"
    }
   }
  },
  {
   "cell_type": "code",
   "execution_count": 25,
   "outputs": [],
   "source": [
    "df2 = pd.cut(df.AGE, 5, labels=range(5))"
   ],
   "metadata": {
    "collapsed": false,
    "pycharm": {
     "name": "#%%\n"
    }
   }
  },
  {
   "cell_type": "code",
   "execution_count": 26,
   "outputs": [
    {
     "data": {
      "text/plain": "pandas.core.series.Series"
     },
     "execution_count": 26,
     "metadata": {},
     "output_type": "execute_result"
    }
   ],
   "source": [
    "type(df2)"
   ],
   "metadata": {
    "collapsed": false,
    "pycharm": {
     "name": "#%%\n"
    }
   }
  },
  {
   "cell_type": "code",
   "execution_count": 44,
   "outputs": [
    {
     "data": {
      "text/plain": "0    3\n1    3\n2    2\n3    2\n4    2\nName: AGE, dtype: category\nCategories (5, int64): [0 < 1 < 2 < 3 < 4]"
     },
     "execution_count": 44,
     "metadata": {},
     "output_type": "execute_result"
    }
   ],
   "source": [
    "df2.head()"
   ],
   "metadata": {
    "collapsed": false,
    "pycharm": {
     "name": "#%%\n"
    }
   }
  },
  {
   "cell_type": "code",
   "execution_count": 52,
   "outputs": [
    {
     "data": {
      "text/plain": "(array([ 45.,   0.,  71.,   0.,   0.,  70.,   0.,  81.,   0., 239.]),\n array([0. , 0.4, 0.8, 1.2, 1.6, 2. , 2.4, 2.8, 3.2, 3.6, 4. ]),\n <BarContainer object of 10 artists>)"
     },
     "execution_count": 52,
     "metadata": {},
     "output_type": "execute_result"
    },
    {
     "data": {
      "text/plain": "<Figure size 432x288 with 1 Axes>",
      "image/png": "[encoded data removed]"
     },
     "metadata": {
      "needs_background": "light"
     },
     "output_type": "display_data"
    }
   ],
   "source": [
    "plt.hist(df2)"
   ],
   "metadata": {
    "collapsed": false,
    "pycharm": {
     "name": "#%%\n"
    }
   }
  },
  {
   "cell_type": "markdown",
   "source": [
    "### 等频法"
   ],
   "metadata": {
    "collapsed": false,
    "pycharm": {
     "name": "#%% md\n"
    }
   }
  },
  {
   "cell_type": "code",
   "execution_count": 53,
   "outputs": [],
   "source": [
    "df3 = pd.qcut(df.AGE, 5, labels=range(5))"
   ],
   "metadata": {
    "collapsed": false,
    "pycharm": {
     "name": "#%%\n"
    }
   }
  },
  {
   "cell_type": "code",
   "execution_count": 55,
   "outputs": [
    {
     "data": {
      "text/plain": "(array([102.,   0., 101.,   0.,   0., 101.,   0., 101.,   0., 101.]),\n array([0. , 0.4, 0.8, 1.2, 1.6, 2. , 2.4, 2.8, 3.2, 3.6, 4. ]),\n <BarContainer object of 10 artists>)"
     },
     "execution_count": 55,
     "metadata": {},
     "output_type": "execute_result"
    },
    {
     "data": {
      "text/plain": "<Figure size 432x288 with 1 Axes>",
      "image/png": "[encoded data removed]"
     },
     "metadata": {
      "needs_background": "light"
     },
     "output_type": "display_data"
    }
   ],
   "source": [
    "plt.hist(df3)"
   ],
   "metadata": {
    "collapsed": false,
    "pycharm": {
     "name": "#%%\n"
    }
   }
  },
  {
   "cell_type": "markdown",
   "source": [
    "## 特征二值化"
   ],
   "metadata": {
    "collapsed": false,
    "pycharm": {
     "name": "#%% md\n"
    }
   }
  },
  {
   "cell_type": "code",
   "execution_count": 47,
   "outputs": [],
   "source": [
    "X = boston.target.reshape(-1, 1)"
   ],
   "metadata": {
    "collapsed": false,
    "pycharm": {
     "name": "#%%\n"
    }
   }
  },
  {
   "cell_type": "code",
   "execution_count": 48,
   "outputs": [
    {
     "data": {
      "text/plain": "array([[24. ],\n       [21.6],\n       [34.7],\n       [33.4],\n       [36.2],\n       [28.7],\n       [22.9],\n       [27.1],\n       [16.5],\n       [18.9],\n       [15. ],\n       [18.9],\n       [21.7],\n       [20.4],\n       [18.2],\n       [19.9],\n       [23.1],\n       [17.5],\n       [20.2],\n       [18.2],\n       [13.6],\n       [19.6],\n       [15.2],\n       [14.5],\n       [15.6],\n       [13.9],\n       [16.6],\n       [14.8],\n       [18.4],\n       [21. ],\n       [12.7],\n       [14.5],\n       [13.2],\n       [13.1],\n       [13.5],\n       [18.9],\n       [20. ],\n       [21. ],\n       [24.7],\n       [30.8],\n       [34.9],\n       [26.6],\n       [25.3],\n       [24.7],\n       [21.2],\n       [19.3],\n       [20. ],\n       [16.6],\n       [14.4],\n       [19.4],\n       [19.7],\n       [20.5],\n       [25. ],\n       [23.4],\n       [18.9],\n       [35.4],\n       [24.7],\n       [31.6],\n       [23.3],\n       [19.6],\n       [18.7],\n       [16. ],\n       [22.2],\n       [25. ],\n       [33. ],\n       [23.5],\n       [19.4],\n       [22. ],\n       [17.4],\n       [20.9],\n       [24.2],\n       [21.7],\n       [22.8],\n       [23.4],\n       [24.1],\n       [21.4],\n       [20. ],\n       [20.8],\n       [21.2],\n       [20.3],\n       [28. ],\n       [23.9],\n       [24.8],\n       [22.9],\n       [23.9],\n       [26.6],\n       [22.5],\n       [22.2],\n       [23.6],\n       [28.7],\n       [22.6],\n       [22. ],\n       [22.9],\n       [25. ],\n       [20.6],\n       [28.4],\n       [21.4],\n       [38.7],\n       [43.8],\n       [33.2],\n       [27.5],\n       [26.5],\n       [18.6],\n       [19.3],\n       [20.1],\n       [19.5],\n       [19.5],\n       [20.4],\n       [19.8],\n       [19.4],\n       [21.7],\n       [22.8],\n       [18.8],\n       [18.7],\n       [18.5],\n       [18.3],\n       [21.2],\n       [19.2],\n       [20.4],\n       [19.3],\n       [22. ],\n       [20.3],\n       [20.5],\n       [17.3],\n       [18.8],\n       [21.4],\n       [15.7],\n       [16.2],\n       [18. ],\n       [14.3],\n       [19.2],\n       [19.6],\n       [23. ],\n       [18.4],\n       [15.6],\n       [18.1],\n       [17.4],\n       [17.1],\n       [13.3],\n       [17.8],\n       [14. ],\n       [14.4],\n       [13.4],\n       [15.6],\n       [11.8],\n       [13.8],\n       [15.6],\n       [14.6],\n       [17.8],\n       [15.4],\n       [21.5],\n       [19.6],\n       [15.3],\n       [19.4],\n       [17. ],\n       [15.6],\n       [13.1],\n       [41.3],\n       [24.3],\n       [23.3],\n       [27. ],\n       [50. ],\n       [50. ],\n       [50. ],\n       [22.7],\n       [25. ],\n       [50. ],\n       [23.8],\n       [23.8],\n       [22.3],\n       [17.4],\n       [19.1],\n       [23.1],\n       [23.6],\n       [22.6],\n       [29.4],\n       [23.2],\n       [24.6],\n       [29.9],\n       [37.2],\n       [39.8],\n       [36.2],\n       [37.9],\n       [32.5],\n       [26.4],\n       [29.6],\n       [50. ],\n       [32. ],\n       [29.8],\n       [34.9],\n       [37. ],\n       [30.5],\n       [36.4],\n       [31.1],\n       [29.1],\n       [50. ],\n       [33.3],\n       [30.3],\n       [34.6],\n       [34.9],\n       [32.9],\n       [24.1],\n       [42.3],\n       [48.5],\n       [50. ],\n       [22.6],\n       [24.4],\n       [22.5],\n       [24.4],\n       [20. ],\n       [21.7],\n       [19.3],\n       [22.4],\n       [28.1],\n       [23.7],\n       [25. ],\n       [23.3],\n       [28.7],\n       [21.5],\n       [23. ],\n       [26.7],\n       [21.7],\n       [27.5],\n       [30.1],\n       [44.8],\n       [50. ],\n       [37.6],\n       [31.6],\n       [46.7],\n       [31.5],\n       [24.3],\n       [31.7],\n       [41.7],\n       [48.3],\n       [29. ],\n       [24. ],\n       [25.1],\n       [31.5],\n       [23.7],\n       [23.3],\n       [22. ],\n       [20.1],\n       [22.2],\n       [23.7],\n       [17.6],\n       [18.5],\n       [24.3],\n       [20.5],\n       [24.5],\n       [26.2],\n       [24.4],\n       [24.8],\n       [29.6],\n       [42.8],\n       [21.9],\n       [20.9],\n       [44. ],\n       [50. ],\n       [36. ],\n       [30.1],\n       [33.8],\n       [43.1],\n       [48.8],\n       [31. ],\n       [36.5],\n       [22.8],\n       [30.7],\n       [50. ],\n       [43.5],\n       [20.7],\n       [21.1],\n       [25.2],\n       [24.4],\n       [35.2],\n       [32.4],\n       [32. ],\n       [33.2],\n       [33.1],\n       [29.1],\n       [35.1],\n       [45.4],\n       [35.4],\n       [46. ],\n       [50. ],\n       [32.2],\n       [22. ],\n       [20.1],\n       [23.2],\n       [22.3],\n       [24.8],\n       [28.5],\n       [37.3],\n       [27.9],\n       [23.9],\n       [21.7],\n       [28.6],\n       [27.1],\n       [20.3],\n       [22.5],\n       [29. ],\n       [24.8],\n       [22. ],\n       [26.4],\n       [33.1],\n       [36.1],\n       [28.4],\n       [33.4],\n       [28.2],\n       [22.8],\n       [20.3],\n       [16.1],\n       [22.1],\n       [19.4],\n       [21.6],\n       [23.8],\n       [16.2],\n       [17.8],\n       [19.8],\n       [23.1],\n       [21. ],\n       [23.8],\n       [23.1],\n       [20.4],\n       [18.5],\n       [25. ],\n       [24.6],\n       [23. ],\n       [22.2],\n       [19.3],\n       [22.6],\n       [19.8],\n       [17.1],\n       [19.4],\n       [22.2],\n       [20.7],\n       [21.1],\n       [19.5],\n       [18.5],\n       [20.6],\n       [19. ],\n       [18.7],\n       [32.7],\n       [16.5],\n       [23.9],\n       [31.2],\n       [17.5],\n       [17.2],\n       [23.1],\n       [24.5],\n       [26.6],\n       [22.9],\n       [24.1],\n       [18.6],\n       [30.1],\n       [18.2],\n       [20.6],\n       [17.8],\n       [21.7],\n       [22.7],\n       [22.6],\n       [25. ],\n       [19.9],\n       [20.8],\n       [16.8],\n       [21.9],\n       [27.5],\n       [21.9],\n       [23.1],\n       [50. ],\n       [50. ],\n       [50. ],\n       [50. ],\n       [50. ],\n       [13.8],\n       [13.8],\n       [15. ],\n       [13.9],\n       [13.3],\n       [13.1],\n       [10.2],\n       [10.4],\n       [10.9],\n       [11.3],\n       [12.3],\n       [ 8.8],\n       [ 7.2],\n       [10.5],\n       [ 7.4],\n       [10.2],\n       [11.5],\n       [15.1],\n       [23.2],\n       [ 9.7],\n       [13.8],\n       [12.7],\n       [13.1],\n       [12.5],\n       [ 8.5],\n       [ 5. ],\n       [ 6.3],\n       [ 5.6],\n       [ 7.2],\n       [12.1],\n       [ 8.3],\n       [ 8.5],\n       [ 5. ],\n       [11.9],\n       [27.9],\n       [17.2],\n       [27.5],\n       [15. ],\n       [17.2],\n       [17.9],\n       [16.3],\n       [ 7. ],\n       [ 7.2],\n       [ 7.5],\n       [10.4],\n       [ 8.8],\n       [ 8.4],\n       [16.7],\n       [14.2],\n       [20.8],\n       [13.4],\n       [11.7],\n       [ 8.3],\n       [10.2],\n       [10.9],\n       [11. ],\n       [ 9.5],\n       [14.5],\n       [14.1],\n       [16.1],\n       [14.3],\n       [11.7],\n       [13.4],\n       [ 9.6],\n       [ 8.7],\n       [ 8.4],\n       [12.8],\n       [10.5],\n       [17.1],\n       [18.4],\n       [15.4],\n       [10.8],\n       [11.8],\n       [14.9],\n       [12.6],\n       [14.1],\n       [13. ],\n       [13.4],\n       [15.2],\n       [16.1],\n       [17.8],\n       [14.9],\n       [14.1],\n       [12.7],\n       [13.5],\n       [14.9],\n       [20. ],\n       [16.4],\n       [17.7],\n       [19.5],\n       [20.2],\n       [21.4],\n       [19.9],\n       [19. ],\n       [19.1],\n       [19.1],\n       [20.1],\n       [19.9],\n       [19.6],\n       [23.2],\n       [29.8],\n       [13.8],\n       [13.3],\n       [16.7],\n       [12. ],\n       [14.6],\n       [21.4],\n       [23. ],\n       [23.7],\n       [25. ],\n       [21.8],\n       [20.6],\n       [21.2],\n       [19.1],\n       [20.6],\n       [15.2],\n       [ 7. ],\n       [ 8.1],\n       [13.6],\n       [20.1],\n       [21.8],\n       [24.5],\n       [23.1],\n       [19.7],\n       [18.3],\n       [21.2],\n       [17.5],\n       [16.8],\n       [22.4],\n       [20.6],\n       [23.9],\n       [22. ],\n       [11.9]])"
     },
     "execution_count": 48,
     "metadata": {},
     "output_type": "execute_result"
    }
   ],
   "source": [
    "X"
   ],
   "metadata": {
    "collapsed": false,
    "pycharm": {
     "name": "#%%\n"
    }
   }
  },
  {
   "cell_type": "code",
   "execution_count": 49,
   "outputs": [
    {
     "data": {
      "text/plain": "array([[1.],\n       [1.],\n       [1.],\n       [1.],\n       [1.],\n       [1.],\n       [1.],\n       [1.],\n       [0.],\n       [0.],\n       [0.],\n       [0.],\n       [1.],\n       [1.],\n       [0.],\n       [0.],\n       [1.],\n       [0.],\n       [1.],\n       [0.],\n       [0.],\n       [0.],\n       [0.],\n       [0.],\n       [0.],\n       [0.],\n       [0.],\n       [0.],\n       [0.],\n       [1.],\n       [0.],\n       [0.],\n       [0.],\n       [0.],\n       [0.],\n       [0.],\n       [0.],\n       [1.],\n       [1.],\n       [1.],\n       [1.],\n       [1.],\n       [1.],\n       [1.],\n       [1.],\n       [0.],\n       [0.],\n       [0.],\n       [0.],\n       [0.],\n       [0.],\n       [1.],\n       [1.],\n       [1.],\n       [0.],\n       [1.],\n       [1.],\n       [1.],\n       [1.],\n       [0.],\n       [0.],\n       [0.],\n       [1.],\n       [1.],\n       [1.],\n       [1.],\n       [0.],\n       [1.],\n       [0.],\n       [1.],\n       [1.],\n       [1.],\n       [1.],\n       [1.],\n       [1.],\n       [1.],\n       [0.],\n       [1.],\n       [1.],\n       [1.],\n       [1.],\n       [1.],\n       [1.],\n       [1.],\n       [1.],\n       [1.],\n       [1.],\n       [1.],\n       [1.],\n       [1.],\n       [1.],\n       [1.],\n       [1.],\n       [1.],\n       [1.],\n       [1.],\n       [1.],\n       [1.],\n       [1.],\n       [1.],\n       [1.],\n       [1.],\n       [0.],\n       [0.],\n       [1.],\n       [0.],\n       [0.],\n       [1.],\n       [0.],\n       [0.],\n       [1.],\n       [1.],\n       [0.],\n       [0.],\n       [0.],\n       [0.],\n       [1.],\n       [0.],\n       [1.],\n       [0.],\n       [1.],\n       [1.],\n       [1.],\n       [0.],\n       [0.],\n       [1.],\n       [0.],\n       [0.],\n       [0.],\n       [0.],\n       [0.],\n       [0.],\n       [1.],\n       [0.],\n       [0.],\n       [0.],\n       [0.],\n       [0.],\n       [0.],\n       [0.],\n       [0.],\n       [0.],\n       [0.],\n       [0.],\n       [0.],\n       [0.],\n       [0.],\n       [0.],\n       [0.],\n       [0.],\n       [1.],\n       [0.],\n       [0.],\n       [0.],\n       [0.],\n       [0.],\n       [0.],\n       [1.],\n       [1.],\n       [1.],\n       [1.],\n       [1.],\n       [1.],\n       [1.],\n       [1.],\n       [1.],\n       [1.],\n       [1.],\n       [1.],\n       [1.],\n       [0.],\n       [0.],\n       [1.],\n       [1.],\n       [1.],\n       [1.],\n       [1.],\n       [1.],\n       [1.],\n       [1.],\n       [1.],\n       [1.],\n       [1.],\n       [1.],\n       [1.],\n       [1.],\n       [1.],\n       [1.],\n       [1.],\n       [1.],\n       [1.],\n       [1.],\n       [1.],\n       [1.],\n       [1.],\n       [1.],\n       [1.],\n       [1.],\n       [1.],\n       [1.],\n       [1.],\n       [1.],\n       [1.],\n       [1.],\n       [1.],\n       [1.],\n       [1.],\n       [1.],\n       [1.],\n       [0.],\n       [1.],\n       [0.],\n       [1.],\n       [1.],\n       [1.],\n       [1.],\n       [1.],\n       [1.],\n       [1.],\n       [1.],\n       [1.],\n       [1.],\n       [1.],\n       [1.],\n       [1.],\n       [1.],\n       [1.],\n       [1.],\n       [1.],\n       [1.],\n       [1.],\n       [1.],\n       [1.],\n       [1.],\n       [1.],\n       [1.],\n       [1.],\n       [1.],\n       [1.],\n       [1.],\n       [1.],\n       [1.],\n       [1.],\n       [1.],\n       [0.],\n       [0.],\n       [1.],\n       [1.],\n       [1.],\n       [1.],\n       [1.],\n       [1.],\n       [1.],\n       [1.],\n       [1.],\n       [1.],\n       [1.],\n       [1.],\n       [1.],\n       [1.],\n       [1.],\n       [1.],\n       [1.],\n       [1.],\n       [1.],\n       [1.],\n       [1.],\n       [1.],\n       [1.],\n       [1.],\n       [1.],\n       [1.],\n       [1.],\n       [1.],\n       [1.],\n       [1.],\n       [1.],\n       [1.],\n       [1.],\n       [1.],\n       [1.],\n       [1.],\n       [1.],\n       [1.],\n       [1.],\n       [1.],\n       [1.],\n       [1.],\n       [1.],\n       [1.],\n       [1.],\n       [1.],\n       [1.],\n       [1.],\n       [1.],\n       [1.],\n       [1.],\n       [1.],\n       [1.],\n       [1.],\n       [1.],\n       [1.],\n       [1.],\n       [1.],\n       [1.],\n       [1.],\n       [1.],\n       [1.],\n       [1.],\n       [1.],\n       [0.],\n       [1.],\n       [0.],\n       [1.],\n       [1.],\n       [0.],\n       [0.],\n       [0.],\n       [1.],\n       [1.],\n       [1.],\n       [1.],\n       [1.],\n       [0.],\n       [1.],\n       [1.],\n       [1.],\n       [1.],\n       [0.],\n       [1.],\n       [0.],\n       [0.],\n       [0.],\n       [1.],\n       [1.],\n       [1.],\n       [0.],\n       [0.],\n       [1.],\n       [0.],\n       [0.],\n       [1.],\n       [0.],\n       [1.],\n       [1.],\n       [0.],\n       [0.],\n       [1.],\n       [1.],\n       [1.],\n       [1.],\n       [1.],\n       [0.],\n       [1.],\n       [0.],\n       [1.],\n       [0.],\n       [1.],\n       [1.],\n       [1.],\n       [1.],\n       [0.],\n       [1.],\n       [0.],\n       [1.],\n       [1.],\n       [1.],\n       [1.],\n       [1.],\n       [1.],\n       [1.],\n       [1.],\n       [1.],\n       [0.],\n       [0.],\n       [0.],\n       [0.],\n       [0.],\n       [0.],\n       [0.],\n       [0.],\n       [0.],\n       [0.],\n       [0.],\n       [0.],\n       [0.],\n       [0.],\n       [0.],\n       [0.],\n       [0.],\n       [0.],\n       [1.],\n       [0.],\n       [0.],\n       [0.],\n       [0.],\n       [0.],\n       [0.],\n       [0.],\n       [0.],\n       [0.],\n       [0.],\n       [0.],\n       [0.],\n       [0.],\n       [0.],\n       [0.],\n       [1.],\n       [0.],\n       [1.],\n       [0.],\n       [0.],\n       [0.],\n       [0.],\n       [0.],\n       [0.],\n       [0.],\n       [0.],\n       [0.],\n       [0.],\n       [0.],\n       [0.],\n       [1.],\n       [0.],\n       [0.],\n       [0.],\n       [0.],\n       [0.],\n       [0.],\n       [0.],\n       [0.],\n       [0.],\n       [0.],\n       [0.],\n       [0.],\n       [0.],\n       [0.],\n       [0.],\n       [0.],\n       [0.],\n       [0.],\n       [0.],\n       [0.],\n       [0.],\n       [0.],\n       [0.],\n       [0.],\n       [0.],\n       [0.],\n       [0.],\n       [0.],\n       [0.],\n       [0.],\n       [0.],\n       [0.],\n       [0.],\n       [0.],\n       [0.],\n       [0.],\n       [0.],\n       [0.],\n       [0.],\n       [0.],\n       [1.],\n       [1.],\n       [0.],\n       [0.],\n       [0.],\n       [0.],\n       [1.],\n       [0.],\n       [0.],\n       [1.],\n       [1.],\n       [0.],\n       [0.],\n       [0.],\n       [0.],\n       [0.],\n       [1.],\n       [1.],\n       [1.],\n       [1.],\n       [1.],\n       [1.],\n       [1.],\n       [0.],\n       [1.],\n       [0.],\n       [0.],\n       [0.],\n       [0.],\n       [1.],\n       [1.],\n       [1.],\n       [1.],\n       [0.],\n       [0.],\n       [1.],\n       [0.],\n       [0.],\n       [1.],\n       [1.],\n       [1.],\n       [1.],\n       [0.]])"
     },
     "execution_count": 49,
     "metadata": {},
     "output_type": "execute_result"
    }
   ],
   "source": [
    "Binarizer(threshold=20.0).fit_transform(X)"
   ],
   "metadata": {
    "collapsed": false,
    "pycharm": {
     "name": "#%%\n"
    }
   }
  },
  {
   "cell_type": "code",
   "execution_count": null,
   "outputs": [],
   "source": [],
   "metadata": {
    "collapsed": false,
    "pycharm": {
     "name": "#%%\n"
    }
   }
  }
 ],
 "metadata": {
  "kernelspec": {
   "display_name": "Python 3",
   "language": "python",
   "name": "python3"
  },
  "language_info": {
   "codemirror_mode": {
    "name": "ipython",
    "version": 2
   },
   "file_extension": ".py",
   "mimetype": "text/x-python",
   "name": "python",
   "nbconvert_exporter": "python",
   "pygments_lexer": "ipython2",
   "version": "2.7.6"
  }
 },
 "nbformat": 4,
 "nbformat_minor": 0
}