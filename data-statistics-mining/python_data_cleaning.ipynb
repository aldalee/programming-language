{
 "cells": [
  {
   "cell_type": "markdown",
   "source": [
    "# 数据探索\n",
    "- 检查数据错误\n",
    "- 了解数据分布特征和内在规律\n",
    "# 数据预处理\n",
    "- 数据清洗 Data cleaning\n",
    "- 数据集成 Data integration\n",
    "- 数据变换 Data transformation\n",
    "- 数据规约 Data reduction"
   ],
   "metadata": {
    "collapsed": false,
    "pycharm": {
     "name": "#%% md\n"
    }
   }
  },
  {
   "cell_type": "markdown",
   "source": [
    "## 数据清洗\n",
    "### 缺失值处理\n",
    "- 删除\n",
    "- 填充\n",
    "缺失值填充\n",
    "- 固定值\n",
    "- 均值、中位数、众数\n",
    "- 上下数据\n",
    "- 插值函数\n",
    "- 最可能的值\n",
    "### 异常值处理\n",
    "如何观测异常值？\n",
    "- 简单统计\n",
    "- 绘图\n",
    "- 基于密度、最近邻和、聚类等方法\n",
    "如何处理？\n",
    "- 同缺失值处理\n",
    "- 局部均值（分箱）\n",
    "- 不处理"
   ],
   "metadata": {
    "collapsed": false,
    "pycharm": {
     "name": "#%% md\n"
    }
   }
  },
  {
   "cell_type": "code",
   "execution_count": 1,
   "outputs": [],
   "source": [
    "import pandas as pd"
   ],
   "metadata": {
    "collapsed": false,
    "pycharm": {
     "name": "#%%\n"
    }
   }
  },
  {
   "cell_type": "code",
   "execution_count": 25,
   "outputs": [],
   "source": [
    "df_nan = pd.read_csv('AXP.csv', index_col='Date')"
   ],
   "metadata": {
    "collapsed": false,
    "pycharm": {
     "name": "#%%\n"
    }
   }
  },
  {
   "cell_type": "code",
   "execution_count": 26,
   "outputs": [
    {
     "data": {
      "text/plain": "                  Open        High         Low       Close   Adj Close  \\\nDate                                                                     \n2022-01-25  166.139999  174.470001  159.660004  173.110001  170.730621   \n2022-01-26  176.949997  179.220001  173.029999  175.320007  172.910248   \n2022-01-27  300.699997  178.199997  170.630005  171.899994  169.537262   \n2022-01-28         NaN  177.210007  169.770004  177.059998  174.626328   \n2022-01-31  175.910004  180.130005  175.220001  179.820007  177.348404   \n\n              Volume  \nDate                  \n2022-01-25  13320800  \n2022-01-26   8257300  \n2022-01-27   3649900  \n2022-01-28   4271500  \n2022-01-31   5524300  ",
      "text/html": "<div>\n<style scoped>\n    .dataframe tbody tr th:only-of-type {\n        vertical-align: middle;\n    }\n\n    .dataframe tbody tr th {\n        vertical-align: top;\n    }\n\n    .dataframe thead th {\n        text-align: right;\n    }\n</style>\n<table border=\"1\" class=\"dataframe\">\n  <thead>\n    <tr style=\"text-align: right;\">\n      <th></th>\n      <th>Open</th>\n      <th>High</th>\n      <th>Low</th>\n      <th>Close</th>\n      <th>Adj Close</th>\n      <th>Volume</th>\n    </tr>\n    <tr>\n      <th>Date</th>\n      <th></th>\n      <th></th>\n      <th></th>\n      <th></th>\n      <th></th>\n      <th></th>\n    </tr>\n  </thead>\n  <tbody>\n    <tr>\n      <th>2022-01-25</th>\n      <td>166.139999</td>\n      <td>174.470001</td>\n      <td>159.660004</td>\n      <td>173.110001</td>\n      <td>170.730621</td>\n      <td>13320800</td>\n    </tr>\n    <tr>\n      <th>2022-01-26</th>\n      <td>176.949997</td>\n      <td>179.220001</td>\n      <td>173.029999</td>\n      <td>175.320007</td>\n      <td>172.910248</td>\n      <td>8257300</td>\n    </tr>\n    <tr>\n      <th>2022-01-27</th>\n      <td>300.699997</td>\n      <td>178.199997</td>\n      <td>170.630005</td>\n      <td>171.899994</td>\n      <td>169.537262</td>\n      <td>3649900</td>\n    </tr>\n    <tr>\n      <th>2022-01-28</th>\n      <td>NaN</td>\n      <td>177.210007</td>\n      <td>169.770004</td>\n      <td>177.059998</td>\n      <td>174.626328</td>\n      <td>4271500</td>\n    </tr>\n    <tr>\n      <th>2022-01-31</th>\n      <td>175.910004</td>\n      <td>180.130005</td>\n      <td>175.220001</td>\n      <td>179.820007</td>\n      <td>177.348404</td>\n      <td>5524300</td>\n    </tr>\n  </tbody>\n</table>\n</div>"
     },
     "execution_count": 26,
     "metadata": {},
     "output_type": "execute_result"
    }
   ],
   "source": [
    "df_nan.head()"
   ],
   "metadata": {
    "collapsed": false,
    "pycharm": {
     "name": "#%%\n"
    }
   }
  },
  {
   "cell_type": "code",
   "execution_count": 4,
   "outputs": [
    {
     "data": {
      "text/plain": "             Open   High    Low  Close  Adj Close  Volume\nDate                                                     \n2022-01-25  False  False  False  False      False   False\n2022-01-26  False  False  False  False      False   False\n2022-01-27  False  False  False  False      False   False\n2022-01-28   True  False  False  False      False   False\n2022-01-31  False  False  False  False      False   False\n...           ...    ...    ...    ...        ...     ...\n2023-01-18  False  False  False  False      False   False\n2023-01-19  False  False  False  False      False   False\n2023-01-20  False  False  False  False      False   False\n2023-01-23  False  False  False  False      False   False\n2023-01-24  False  False  False  False      False   False\n\n[251 rows x 6 columns]",
      "text/html": "<div>\n<style scoped>\n    .dataframe tbody tr th:only-of-type {\n        vertical-align: middle;\n    }\n\n    .dataframe tbody tr th {\n        vertical-align: top;\n    }\n\n    .dataframe thead th {\n        text-align: right;\n    }\n</style>\n<table border=\"1\" class=\"dataframe\">\n  <thead>\n    <tr style=\"text-align: right;\">\n      <th></th>\n      <th>Open</th>\n      <th>High</th>\n      <th>Low</th>\n      <th>Close</th>\n      <th>Adj Close</th>\n      <th>Volume</th>\n    </tr>\n    <tr>\n      <th>Date</th>\n      <th></th>\n      <th></th>\n      <th></th>\n      <th></th>\n      <th></th>\n      <th></th>\n    </tr>\n  </thead>\n  <tbody>\n    <tr>\n      <th>2022-01-25</th>\n      <td>False</td>\n      <td>False</td>\n      <td>False</td>\n      <td>False</td>\n      <td>False</td>\n      <td>False</td>\n    </tr>\n    <tr>\n      <th>2022-01-26</th>\n      <td>False</td>\n      <td>False</td>\n      <td>False</td>\n      <td>False</td>\n      <td>False</td>\n      <td>False</td>\n    </tr>\n    <tr>\n      <th>2022-01-27</th>\n      <td>False</td>\n      <td>False</td>\n      <td>False</td>\n      <td>False</td>\n      <td>False</td>\n      <td>False</td>\n    </tr>\n    <tr>\n      <th>2022-01-28</th>\n      <td>True</td>\n      <td>False</td>\n      <td>False</td>\n      <td>False</td>\n      <td>False</td>\n      <td>False</td>\n    </tr>\n    <tr>\n      <th>2022-01-31</th>\n      <td>False</td>\n      <td>False</td>\n      <td>False</td>\n      <td>False</td>\n      <td>False</td>\n      <td>False</td>\n    </tr>\n    <tr>\n      <th>...</th>\n      <td>...</td>\n      <td>...</td>\n      <td>...</td>\n      <td>...</td>\n      <td>...</td>\n      <td>...</td>\n    </tr>\n    <tr>\n      <th>2023-01-18</th>\n      <td>False</td>\n      <td>False</td>\n      <td>False</td>\n      <td>False</td>\n      <td>False</td>\n      <td>False</td>\n    </tr>\n    <tr>\n      <th>2023-01-19</th>\n      <td>False</td>\n      <td>False</td>\n      <td>False</td>\n      <td>False</td>\n      <td>False</td>\n      <td>False</td>\n    </tr>\n    <tr>\n      <th>2023-01-20</th>\n      <td>False</td>\n      <td>False</td>\n      <td>False</td>\n      <td>False</td>\n      <td>False</td>\n      <td>False</td>\n    </tr>\n    <tr>\n      <th>2023-01-23</th>\n      <td>False</td>\n      <td>False</td>\n      <td>False</td>\n      <td>False</td>\n      <td>False</td>\n      <td>False</td>\n    </tr>\n    <tr>\n      <th>2023-01-24</th>\n      <td>False</td>\n      <td>False</td>\n      <td>False</td>\n      <td>False</td>\n      <td>False</td>\n      <td>False</td>\n    </tr>\n  </tbody>\n</table>\n<p>251 rows × 6 columns</p>\n</div>"
     },
     "execution_count": 4,
     "metadata": {},
     "output_type": "execute_result"
    }
   ],
   "source": [
    "df_nan.isnull()"
   ],
   "metadata": {
    "collapsed": false,
    "pycharm": {
     "name": "#%%\n"
    }
   }
  },
  {
   "cell_type": "code",
   "execution_count": 5,
   "outputs": [
    {
     "name": "stdout",
     "output_type": "stream",
     "text": [
      "Help on method dropna in module pandas.core.frame:\n",
      "\n",
      "dropna(axis: 'Axis' = 0, how: 'str' = 'any', thresh=None, subset=None, inplace: 'bool' = False) method of pandas.core.frame.DataFrame instance\n",
      "    Remove missing values.\n",
      "    \n",
      "    See the :ref:`User Guide <missing_data>` for more on which values are\n",
      "    considered missing, and how to work with missing data.\n",
      "    \n",
      "    Parameters\n",
      "    ----------\n",
      "    axis : {0 or 'index', 1 or 'columns'}, default 0\n",
      "        Determine if rows or columns which contain missing values are\n",
      "        removed.\n",
      "    \n",
      "        * 0, or 'index' : Drop rows which contain missing values.\n",
      "        * 1, or 'columns' : Drop columns which contain missing value.\n",
      "    \n",
      "        .. versionchanged:: 1.0.0\n",
      "    \n",
      "           Pass tuple or list to drop on multiple axes.\n",
      "           Only a single axis is allowed.\n",
      "    \n",
      "    how : {'any', 'all'}, default 'any'\n",
      "        Determine if row or column is removed from DataFrame, when we have\n",
      "        at least one NA or all NA.\n",
      "    \n",
      "        * 'any' : If any NA values are present, drop that row or column.\n",
      "        * 'all' : If all values are NA, drop that row or column.\n",
      "    \n",
      "    thresh : int, optional\n",
      "        Require that many non-NA values.\n",
      "    subset : array-like, optional\n",
      "        Labels along other axis to consider, e.g. if you are dropping rows\n",
      "        these would be a list of columns to include.\n",
      "    inplace : bool, default False\n",
      "        If True, do operation inplace and return None.\n",
      "    \n",
      "    Returns\n",
      "    -------\n",
      "    DataFrame or None\n",
      "        DataFrame with NA entries dropped from it or None if ``inplace=True``.\n",
      "    \n",
      "    See Also\n",
      "    --------\n",
      "    DataFrame.isna: Indicate missing values.\n",
      "    DataFrame.notna : Indicate existing (non-missing) values.\n",
      "    DataFrame.fillna : Replace missing values.\n",
      "    Series.dropna : Drop missing values.\n",
      "    Index.dropna : Drop missing indices.\n",
      "    \n",
      "    Examples\n",
      "    --------\n",
      "    >>> df = pd.DataFrame({\"name\": ['Alfred', 'Batman', 'Catwoman'],\n",
      "    ...                    \"toy\": [np.nan, 'Batmobile', 'Bullwhip'],\n",
      "    ...                    \"born\": [pd.NaT, pd.Timestamp(\"1940-04-25\"),\n",
      "    ...                             pd.NaT]})\n",
      "    >>> df\n",
      "           name        toy       born\n",
      "    0    Alfred        NaN        NaT\n",
      "    1    Batman  Batmobile 1940-04-25\n",
      "    2  Catwoman   Bullwhip        NaT\n",
      "    \n",
      "    Drop the rows where at least one element is missing.\n",
      "    \n",
      "    >>> df.dropna()\n",
      "         name        toy       born\n",
      "    1  Batman  Batmobile 1940-04-25\n",
      "    \n",
      "    Drop the columns where at least one element is missing.\n",
      "    \n",
      "    >>> df.dropna(axis='columns')\n",
      "           name\n",
      "    0    Alfred\n",
      "    1    Batman\n",
      "    2  Catwoman\n",
      "    \n",
      "    Drop the rows where all elements are missing.\n",
      "    \n",
      "    >>> df.dropna(how='all')\n",
      "           name        toy       born\n",
      "    0    Alfred        NaN        NaT\n",
      "    1    Batman  Batmobile 1940-04-25\n",
      "    2  Catwoman   Bullwhip        NaT\n",
      "    \n",
      "    Keep only the rows with at least 2 non-NA values.\n",
      "    \n",
      "    >>> df.dropna(thresh=2)\n",
      "           name        toy       born\n",
      "    1    Batman  Batmobile 1940-04-25\n",
      "    2  Catwoman   Bullwhip        NaT\n",
      "    \n",
      "    Define in which columns to look for missing values.\n",
      "    \n",
      "    >>> df.dropna(subset=['name', 'toy'])\n",
      "           name        toy       born\n",
      "    1    Batman  Batmobile 1940-04-25\n",
      "    2  Catwoman   Bullwhip        NaT\n",
      "    \n",
      "    Keep the DataFrame with valid entries in the same variable.\n",
      "    \n",
      "    >>> df.dropna(inplace=True)\n",
      "    >>> df\n",
      "         name        toy       born\n",
      "    1  Batman  Batmobile 1940-04-25\n",
      "\n"
     ]
    }
   ],
   "source": [
    "help(df_nan.dropna)"
   ],
   "metadata": {
    "collapsed": false,
    "pycharm": {
     "name": "#%%\n"
    }
   }
  },
  {
   "cell_type": "code",
   "execution_count": 6,
   "outputs": [
    {
     "data": {
      "text/plain": "                  Open        High         Low       Close   Adj Close  \\\nDate                                                                     \n2022-01-25  166.139999  174.470001  159.660004  173.110001  170.730621   \n2022-01-26  176.949997  179.220001  173.029999  175.320007  172.910248   \n2022-01-27  176.699997  178.199997  170.630005  171.899994  169.537262   \n2022-01-28         NaN  177.210007  169.770004  177.059998  174.626328   \n2022-01-31  175.910004  180.130005  175.220001  179.820007  177.348404   \n...                ...         ...         ...         ...         ...   \n2023-01-18  154.490005  154.759995  150.320007  150.419998  150.419998   \n2023-01-19  146.610001  148.000000  144.199997  146.850006  146.850006   \n2023-01-20  147.960007  151.779999  147.720001  151.600006  151.600006   \n2023-01-23  152.000000  155.059998  151.550003  154.000000  154.000000   \n2023-01-24  154.000000  156.669998  152.660004  155.330002  155.330002   \n\n              Volume  \nDate                  \n2022-01-25  13320800  \n2022-01-26   8257300  \n2022-01-27   3649900  \n2022-01-28   4271500  \n2022-01-31   5524300  \n...              ...  \n2023-01-18   2762400  \n2023-01-19   3852300  \n2023-01-20   3953900  \n2023-01-23   3608700  \n2023-01-24   2348400  \n\n[251 rows x 6 columns]",
      "text/html": "<div>\n<style scoped>\n    .dataframe tbody tr th:only-of-type {\n        vertical-align: middle;\n    }\n\n    .dataframe tbody tr th {\n        vertical-align: top;\n    }\n\n    .dataframe thead th {\n        text-align: right;\n    }\n</style>\n<table border=\"1\" class=\"dataframe\">\n  <thead>\n    <tr style=\"text-align: right;\">\n      <th></th>\n      <th>Open</th>\n      <th>High</th>\n      <th>Low</th>\n      <th>Close</th>\n      <th>Adj Close</th>\n      <th>Volume</th>\n    </tr>\n    <tr>\n      <th>Date</th>\n      <th></th>\n      <th></th>\n      <th></th>\n      <th></th>\n      <th></th>\n      <th></th>\n    </tr>\n  </thead>\n  <tbody>\n    <tr>\n      <th>2022-01-25</th>\n      <td>166.139999</td>\n      <td>174.470001</td>\n      <td>159.660004</td>\n      <td>173.110001</td>\n      <td>170.730621</td>\n      <td>13320800</td>\n    </tr>\n    <tr>\n      <th>2022-01-26</th>\n      <td>176.949997</td>\n      <td>179.220001</td>\n      <td>173.029999</td>\n      <td>175.320007</td>\n      <td>172.910248</td>\n      <td>8257300</td>\n    </tr>\n    <tr>\n      <th>2022-01-27</th>\n      <td>176.699997</td>\n      <td>178.199997</td>\n      <td>170.630005</td>\n      <td>171.899994</td>\n      <td>169.537262</td>\n      <td>3649900</td>\n    </tr>\n    <tr>\n      <th>2022-01-28</th>\n      <td>NaN</td>\n      <td>177.210007</td>\n      <td>169.770004</td>\n      <td>177.059998</td>\n      <td>174.626328</td>\n      <td>4271500</td>\n    </tr>\n    <tr>\n      <th>2022-01-31</th>\n      <td>175.910004</td>\n      <td>180.130005</td>\n      <td>175.220001</td>\n      <td>179.820007</td>\n      <td>177.348404</td>\n      <td>5524300</td>\n    </tr>\n    <tr>\n      <th>...</th>\n      <td>...</td>\n      <td>...</td>\n      <td>...</td>\n      <td>...</td>\n      <td>...</td>\n      <td>...</td>\n    </tr>\n    <tr>\n      <th>2023-01-18</th>\n      <td>154.490005</td>\n      <td>154.759995</td>\n      <td>150.320007</td>\n      <td>150.419998</td>\n      <td>150.419998</td>\n      <td>2762400</td>\n    </tr>\n    <tr>\n      <th>2023-01-19</th>\n      <td>146.610001</td>\n      <td>148.000000</td>\n      <td>144.199997</td>\n      <td>146.850006</td>\n      <td>146.850006</td>\n      <td>3852300</td>\n    </tr>\n    <tr>\n      <th>2023-01-20</th>\n      <td>147.960007</td>\n      <td>151.779999</td>\n      <td>147.720001</td>\n      <td>151.600006</td>\n      <td>151.600006</td>\n      <td>3953900</td>\n    </tr>\n    <tr>\n      <th>2023-01-23</th>\n      <td>152.000000</td>\n      <td>155.059998</td>\n      <td>151.550003</td>\n      <td>154.000000</td>\n      <td>154.000000</td>\n      <td>3608700</td>\n    </tr>\n    <tr>\n      <th>2023-01-24</th>\n      <td>154.000000</td>\n      <td>156.669998</td>\n      <td>152.660004</td>\n      <td>155.330002</td>\n      <td>155.330002</td>\n      <td>2348400</td>\n    </tr>\n  </tbody>\n</table>\n<p>251 rows × 6 columns</p>\n</div>"
     },
     "execution_count": 6,
     "metadata": {},
     "output_type": "execute_result"
    }
   ],
   "source": [
    "df_nan.dropna(how='all')"
   ],
   "metadata": {
    "collapsed": false,
    "pycharm": {
     "name": "#%%\n"
    }
   }
  },
  {
   "cell_type": "code",
   "execution_count": 27,
   "outputs": [],
   "source": [
    "df_nan.fillna(df_nan.mean(), inplace=True)"
   ],
   "metadata": {
    "collapsed": false,
    "pycharm": {
     "name": "#%%\n"
    }
   }
  },
  {
   "cell_type": "code",
   "execution_count": 28,
   "outputs": [
    {
     "data": {
      "text/plain": "                  Open        High         Low       Close   Adj Close  \\\nDate                                                                     \n2022-01-25  166.139999  174.470001  159.660004  173.110001  170.730621   \n2022-01-26  176.949997  179.220001  173.029999  175.320007  172.910248   \n2022-01-27  300.699997  178.199997  170.630005  171.899994  169.537262   \n2022-01-28  160.708273  177.210007  169.770004  177.059998  174.626328   \n2022-01-31  175.910004  180.130005  175.220001  179.820007  177.348404   \n\n              Volume  \nDate                  \n2022-01-25  13320800  \n2022-01-26   8257300  \n2022-01-27   3649900  \n2022-01-28   4271500  \n2022-01-31   5524300  ",
      "text/html": "<div>\n<style scoped>\n    .dataframe tbody tr th:only-of-type {\n        vertical-align: middle;\n    }\n\n    .dataframe tbody tr th {\n        vertical-align: top;\n    }\n\n    .dataframe thead th {\n        text-align: right;\n    }\n</style>\n<table border=\"1\" class=\"dataframe\">\n  <thead>\n    <tr style=\"text-align: right;\">\n      <th></th>\n      <th>Open</th>\n      <th>High</th>\n      <th>Low</th>\n      <th>Close</th>\n      <th>Adj Close</th>\n      <th>Volume</th>\n    </tr>\n    <tr>\n      <th>Date</th>\n      <th></th>\n      <th></th>\n      <th></th>\n      <th></th>\n      <th></th>\n      <th></th>\n    </tr>\n  </thead>\n  <tbody>\n    <tr>\n      <th>2022-01-25</th>\n      <td>166.139999</td>\n      <td>174.470001</td>\n      <td>159.660004</td>\n      <td>173.110001</td>\n      <td>170.730621</td>\n      <td>13320800</td>\n    </tr>\n    <tr>\n      <th>2022-01-26</th>\n      <td>176.949997</td>\n      <td>179.220001</td>\n      <td>173.029999</td>\n      <td>175.320007</td>\n      <td>172.910248</td>\n      <td>8257300</td>\n    </tr>\n    <tr>\n      <th>2022-01-27</th>\n      <td>300.699997</td>\n      <td>178.199997</td>\n      <td>170.630005</td>\n      <td>171.899994</td>\n      <td>169.537262</td>\n      <td>3649900</td>\n    </tr>\n    <tr>\n      <th>2022-01-28</th>\n      <td>160.708273</td>\n      <td>177.210007</td>\n      <td>169.770004</td>\n      <td>177.059998</td>\n      <td>174.626328</td>\n      <td>4271500</td>\n    </tr>\n    <tr>\n      <th>2022-01-31</th>\n      <td>175.910004</td>\n      <td>180.130005</td>\n      <td>175.220001</td>\n      <td>179.820007</td>\n      <td>177.348404</td>\n      <td>5524300</td>\n    </tr>\n  </tbody>\n</table>\n</div>"
     },
     "execution_count": 28,
     "metadata": {},
     "output_type": "execute_result"
    }
   ],
   "source": [
    "df_nan.head()"
   ],
   "metadata": {
    "collapsed": false,
    "pycharm": {
     "name": "#%%\n"
    }
   }
  },
  {
   "cell_type": "code",
   "execution_count": 29,
   "outputs": [
    {
     "data": {
      "text/plain": "             Open        High         Low       Close   Adj Close  \\\ncount  251.000000  251.000000  251.000000  251.000000  251.000000   \nmean   160.708273  162.407960  157.969402  160.190600  158.889134   \nstd     18.853776   16.857738   16.555709   16.692266   16.012279   \nmin    131.350006  137.240005  130.649994  134.910004  133.932724   \n25%    147.500000  149.285004  145.665001  147.020004  146.581924   \n50%    155.600006  157.350006  153.320007  154.919998  154.234589   \n75%    171.985001  174.795006  169.520004  172.004998  169.983880   \nmax    300.699997  199.550003  197.240005  198.380005  195.653290   \n\n             Volume  \ncount  2.510000e+02  \nmean   3.429341e+06  \nstd    1.597481e+06  \nmin    6.658000e+05  \n25%    2.571250e+06  \n50%    3.073400e+06  \n75%    3.934450e+06  \nmax    1.332080e+07  ",
      "text/html": "<div>\n<style scoped>\n    .dataframe tbody tr th:only-of-type {\n        vertical-align: middle;\n    }\n\n    .dataframe tbody tr th {\n        vertical-align: top;\n    }\n\n    .dataframe thead th {\n        text-align: right;\n    }\n</style>\n<table border=\"1\" class=\"dataframe\">\n  <thead>\n    <tr style=\"text-align: right;\">\n      <th></th>\n      <th>Open</th>\n      <th>High</th>\n      <th>Low</th>\n      <th>Close</th>\n      <th>Adj Close</th>\n      <th>Volume</th>\n    </tr>\n  </thead>\n  <tbody>\n    <tr>\n      <th>count</th>\n      <td>251.000000</td>\n      <td>251.000000</td>\n      <td>251.000000</td>\n      <td>251.000000</td>\n      <td>251.000000</td>\n      <td>2.510000e+02</td>\n    </tr>\n    <tr>\n      <th>mean</th>\n      <td>160.708273</td>\n      <td>162.407960</td>\n      <td>157.969402</td>\n      <td>160.190600</td>\n      <td>158.889134</td>\n      <td>3.429341e+06</td>\n    </tr>\n    <tr>\n      <th>std</th>\n      <td>18.853776</td>\n      <td>16.857738</td>\n      <td>16.555709</td>\n      <td>16.692266</td>\n      <td>16.012279</td>\n      <td>1.597481e+06</td>\n    </tr>\n    <tr>\n      <th>min</th>\n      <td>131.350006</td>\n      <td>137.240005</td>\n      <td>130.649994</td>\n      <td>134.910004</td>\n      <td>133.932724</td>\n      <td>6.658000e+05</td>\n    </tr>\n    <tr>\n      <th>25%</th>\n      <td>147.500000</td>\n      <td>149.285004</td>\n      <td>145.665001</td>\n      <td>147.020004</td>\n      <td>146.581924</td>\n      <td>2.571250e+06</td>\n    </tr>\n    <tr>\n      <th>50%</th>\n      <td>155.600006</td>\n      <td>157.350006</td>\n      <td>153.320007</td>\n      <td>154.919998</td>\n      <td>154.234589</td>\n      <td>3.073400e+06</td>\n    </tr>\n    <tr>\n      <th>75%</th>\n      <td>171.985001</td>\n      <td>174.795006</td>\n      <td>169.520004</td>\n      <td>172.004998</td>\n      <td>169.983880</td>\n      <td>3.934450e+06</td>\n    </tr>\n    <tr>\n      <th>max</th>\n      <td>300.699997</td>\n      <td>199.550003</td>\n      <td>197.240005</td>\n      <td>198.380005</td>\n      <td>195.653290</td>\n      <td>1.332080e+07</td>\n    </tr>\n  </tbody>\n</table>\n</div>"
     },
     "execution_count": 29,
     "metadata": {},
     "output_type": "execute_result"
    }
   ],
   "source": [
    "df_nan.describe()"
   ],
   "metadata": {
    "collapsed": false,
    "pycharm": {
     "name": "#%%\n"
    }
   }
  },
  {
   "cell_type": "code",
   "execution_count": 30,
   "outputs": [
    {
     "data": {
      "text/plain": "<AxesSubplot:>"
     },
     "execution_count": 30,
     "metadata": {},
     "output_type": "execute_result"
    },
    {
     "data": {
      "text/plain": "<Figure size 432x288 with 1 Axes>",
      "image/png": "[encoded data removed]"
     },
     "metadata": {
      "needs_background": "light"
     },
     "output_type": "display_data"
    }
   ],
   "source": [
    "df_nan.iloc[:, 0:4].boxplot()"
   ],
   "metadata": {
    "collapsed": false,
    "pycharm": {
     "name": "#%%\n"
    }
   }
  },
  {
   "cell_type": "code",
   "execution_count": 31,
   "outputs": [
    {
     "data": {
      "text/plain": "                  Open  High  Low  Close  Adj Close      Volume\nDate                                                           \n2022-01-25         NaN   NaN  NaN    NaN        NaN  13320800.0\n2022-01-26         NaN   NaN  NaN    NaN        NaN   8257300.0\n2022-01-27  300.699997   NaN  NaN    NaN        NaN         NaN\n2022-01-28         NaN   NaN  NaN    NaN        NaN         NaN\n2022-01-31         NaN   NaN  NaN    NaN        NaN         NaN\n...                ...   ...  ...    ...        ...         ...\n2023-01-18         NaN   NaN  NaN    NaN        NaN         NaN\n2023-01-19         NaN   NaN  NaN    NaN        NaN         NaN\n2023-01-20         NaN   NaN  NaN    NaN        NaN         NaN\n2023-01-23         NaN   NaN  NaN    NaN        NaN         NaN\n2023-01-24         NaN   NaN  NaN    NaN        NaN         NaN\n\n[251 rows x 6 columns]",
      "text/html": "<div>\n<style scoped>\n    .dataframe tbody tr th:only-of-type {\n        vertical-align: middle;\n    }\n\n    .dataframe tbody tr th {\n        vertical-align: top;\n    }\n\n    .dataframe thead th {\n        text-align: right;\n    }\n</style>\n<table border=\"1\" class=\"dataframe\">\n  <thead>\n    <tr style=\"text-align: right;\">\n      <th></th>\n      <th>Open</th>\n      <th>High</th>\n      <th>Low</th>\n      <th>Close</th>\n      <th>Adj Close</th>\n      <th>Volume</th>\n    </tr>\n    <tr>\n      <th>Date</th>\n      <th></th>\n      <th></th>\n      <th></th>\n      <th></th>\n      <th></th>\n      <th></th>\n    </tr>\n  </thead>\n  <tbody>\n    <tr>\n      <th>2022-01-25</th>\n      <td>NaN</td>\n      <td>NaN</td>\n      <td>NaN</td>\n      <td>NaN</td>\n      <td>NaN</td>\n      <td>13320800.0</td>\n    </tr>\n    <tr>\n      <th>2022-01-26</th>\n      <td>NaN</td>\n      <td>NaN</td>\n      <td>NaN</td>\n      <td>NaN</td>\n      <td>NaN</td>\n      <td>8257300.0</td>\n    </tr>\n    <tr>\n      <th>2022-01-27</th>\n      <td>300.699997</td>\n      <td>NaN</td>\n      <td>NaN</td>\n      <td>NaN</td>\n      <td>NaN</td>\n      <td>NaN</td>\n    </tr>\n    <tr>\n      <th>2022-01-28</th>\n      <td>NaN</td>\n      <td>NaN</td>\n      <td>NaN</td>\n      <td>NaN</td>\n      <td>NaN</td>\n      <td>NaN</td>\n    </tr>\n    <tr>\n      <th>2022-01-31</th>\n      <td>NaN</td>\n      <td>NaN</td>\n      <td>NaN</td>\n      <td>NaN</td>\n      <td>NaN</td>\n      <td>NaN</td>\n    </tr>\n    <tr>\n      <th>...</th>\n      <td>...</td>\n      <td>...</td>\n      <td>...</td>\n      <td>...</td>\n      <td>...</td>\n      <td>...</td>\n    </tr>\n    <tr>\n      <th>2023-01-18</th>\n      <td>NaN</td>\n      <td>NaN</td>\n      <td>NaN</td>\n      <td>NaN</td>\n      <td>NaN</td>\n      <td>NaN</td>\n    </tr>\n    <tr>\n      <th>2023-01-19</th>\n      <td>NaN</td>\n      <td>NaN</td>\n      <td>NaN</td>\n      <td>NaN</td>\n      <td>NaN</td>\n      <td>NaN</td>\n    </tr>\n    <tr>\n      <th>2023-01-20</th>\n      <td>NaN</td>\n      <td>NaN</td>\n      <td>NaN</td>\n      <td>NaN</td>\n      <td>NaN</td>\n      <td>NaN</td>\n    </tr>\n    <tr>\n      <th>2023-01-23</th>\n      <td>NaN</td>\n      <td>NaN</td>\n      <td>NaN</td>\n      <td>NaN</td>\n      <td>NaN</td>\n      <td>NaN</td>\n    </tr>\n    <tr>\n      <th>2023-01-24</th>\n      <td>NaN</td>\n      <td>NaN</td>\n      <td>NaN</td>\n      <td>NaN</td>\n      <td>NaN</td>\n      <td>NaN</td>\n    </tr>\n  </tbody>\n</table>\n<p>251 rows × 6 columns</p>\n</div>"
     },
     "execution_count": 31,
     "metadata": {},
     "output_type": "execute_result"
    }
   ],
   "source": [
    "df_nan[abs(df_nan - df_nan.mean()) > 3 * df_nan.std()]"
   ],
   "metadata": {
    "collapsed": false,
    "pycharm": {
     "name": "#%%\n"
    }
   }
  },
  {
   "cell_type": "code",
   "execution_count": null,
   "outputs": [],
   "source": [],
   "metadata": {
    "collapsed": false,
    "pycharm": {
     "name": "#%%\n"
    }
   }
  }
 ],
 "metadata": {
  "kernelspec": {
   "display_name": "Python 3",
   "language": "python",
   "name": "python3"
  },
  "language_info": {
   "codemirror_mode": {
    "name": "ipython",
    "version": 2
   },
   "file_extension": ".py",
   "mimetype": "text/x-python",
   "name": "python",
   "nbconvert_exporter": "python",
   "pygments_lexer": "ipython2",
   "version": "2.7.6"
  }
 },
 "nbformat": 4,
 "nbformat_minor": 0
}